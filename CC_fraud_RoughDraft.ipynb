{
 "cells": [
  {
   "cell_type": "code",
   "execution_count": 1,
   "metadata": {},
   "outputs": [],
   "source": [
    "import warnings\n",
    "warnings.filterwarnings('ignore')\n",
    "\n",
    "from math import sqrt\n",
    "from scipy import stats\n",
    "from datetime import datetime\n",
    "\n",
    "from sklearn.model_selection import train_test_split\n",
    "from sklearn.tree import DecisionTreeClassifier, plot_tree, export_text\n",
    "from sklearn.model_selection import train_test_split\n",
    "import sklearn.metrics\n",
    "from sklearn.ensemble import RandomForestClassifier\n",
    "from sklearn.neighbors import KNeighborsClassifier\n",
    "from sklearn.preprocessing import LabelEncoder\n",
    "from sklearn.metrics import confusion_matrix\n",
    "from sklearn.metrics import classification_report\n",
    "from sklearn.linear_model import LogisticRegression\n",
    "\n",
    "%matplotlib inline\n",
    "import matplotlib.pyplot as plt\n",
    "import numpy as np\n",
    "import pandas as pd\n",
    "import seaborn as sns\n",
    "\n",
    "from modeling import evaluate"
   ]
  },
  {
   "cell_type": "markdown",
   "metadata": {},
   "source": [
    "## Credit Card Fraud Detection Project: Classification"
   ]
  },
  {
   "cell_type": "markdown",
   "metadata": {},
   "source": [
    "### Acquire"
   ]
  },
  {
   "cell_type": "code",
   "execution_count": 2,
   "metadata": {},
   "outputs": [
    {
     "data": {
      "text/plain": [
       "(1296675, 23)"
      ]
     },
     "execution_count": 2,
     "metadata": {},
     "output_type": "execute_result"
    }
   ],
   "source": [
    "df = pd.read_csv('fraudTrain.csv') ## <-- reading csv into pandas\n",
    "df.shape"
   ]
  },
  {
   "cell_type": "code",
   "execution_count": 3,
   "metadata": {},
   "outputs": [
    {
     "data": {
      "text/html": [
       "<div>\n",
       "<style scoped>\n",
       "    .dataframe tbody tr th:only-of-type {\n",
       "        vertical-align: middle;\n",
       "    }\n",
       "\n",
       "    .dataframe tbody tr th {\n",
       "        vertical-align: top;\n",
       "    }\n",
       "\n",
       "    .dataframe thead th {\n",
       "        text-align: right;\n",
       "    }\n",
       "</style>\n",
       "<table border=\"1\" class=\"dataframe\">\n",
       "  <thead>\n",
       "    <tr style=\"text-align: right;\">\n",
       "      <th></th>\n",
       "      <th>Unnamed: 0</th>\n",
       "      <th>trans_date_trans_time</th>\n",
       "      <th>cc_num</th>\n",
       "      <th>merchant</th>\n",
       "      <th>category</th>\n",
       "      <th>amt</th>\n",
       "      <th>first</th>\n",
       "      <th>last</th>\n",
       "      <th>gender</th>\n",
       "      <th>street</th>\n",
       "      <th>...</th>\n",
       "      <th>lat</th>\n",
       "      <th>long</th>\n",
       "      <th>city_pop</th>\n",
       "      <th>job</th>\n",
       "      <th>dob</th>\n",
       "      <th>trans_num</th>\n",
       "      <th>unix_time</th>\n",
       "      <th>merch_lat</th>\n",
       "      <th>merch_long</th>\n",
       "      <th>is_fraud</th>\n",
       "    </tr>\n",
       "  </thead>\n",
       "  <tbody>\n",
       "    <tr>\n",
       "      <th>0</th>\n",
       "      <td>0</td>\n",
       "      <td>2019-01-01 00:00:18</td>\n",
       "      <td>2703186189652095</td>\n",
       "      <td>fraud_Rippin, Kub and Mann</td>\n",
       "      <td>misc_net</td>\n",
       "      <td>4.97</td>\n",
       "      <td>Jennifer</td>\n",
       "      <td>Banks</td>\n",
       "      <td>F</td>\n",
       "      <td>561 Perry Cove</td>\n",
       "      <td>...</td>\n",
       "      <td>36.0788</td>\n",
       "      <td>-81.1781</td>\n",
       "      <td>3495</td>\n",
       "      <td>Psychologist, counselling</td>\n",
       "      <td>1988-03-09</td>\n",
       "      <td>0b242abb623afc578575680df30655b9</td>\n",
       "      <td>1325376018</td>\n",
       "      <td>36.011293</td>\n",
       "      <td>-82.048315</td>\n",
       "      <td>0</td>\n",
       "    </tr>\n",
       "    <tr>\n",
       "      <th>1</th>\n",
       "      <td>1</td>\n",
       "      <td>2019-01-01 00:00:44</td>\n",
       "      <td>630423337322</td>\n",
       "      <td>fraud_Heller, Gutmann and Zieme</td>\n",
       "      <td>grocery_pos</td>\n",
       "      <td>107.23</td>\n",
       "      <td>Stephanie</td>\n",
       "      <td>Gill</td>\n",
       "      <td>F</td>\n",
       "      <td>43039 Riley Greens Suite 393</td>\n",
       "      <td>...</td>\n",
       "      <td>48.8878</td>\n",
       "      <td>-118.2105</td>\n",
       "      <td>149</td>\n",
       "      <td>Special educational needs teacher</td>\n",
       "      <td>1978-06-21</td>\n",
       "      <td>1f76529f8574734946361c461b024d99</td>\n",
       "      <td>1325376044</td>\n",
       "      <td>49.159047</td>\n",
       "      <td>-118.186462</td>\n",
       "      <td>0</td>\n",
       "    </tr>\n",
       "    <tr>\n",
       "      <th>2</th>\n",
       "      <td>2</td>\n",
       "      <td>2019-01-01 00:00:51</td>\n",
       "      <td>38859492057661</td>\n",
       "      <td>fraud_Lind-Buckridge</td>\n",
       "      <td>entertainment</td>\n",
       "      <td>220.11</td>\n",
       "      <td>Edward</td>\n",
       "      <td>Sanchez</td>\n",
       "      <td>M</td>\n",
       "      <td>594 White Dale Suite 530</td>\n",
       "      <td>...</td>\n",
       "      <td>42.1808</td>\n",
       "      <td>-112.2620</td>\n",
       "      <td>4154</td>\n",
       "      <td>Nature conservation officer</td>\n",
       "      <td>1962-01-19</td>\n",
       "      <td>a1a22d70485983eac12b5b88dad1cf95</td>\n",
       "      <td>1325376051</td>\n",
       "      <td>43.150704</td>\n",
       "      <td>-112.154481</td>\n",
       "      <td>0</td>\n",
       "    </tr>\n",
       "  </tbody>\n",
       "</table>\n",
       "<p>3 rows × 23 columns</p>\n",
       "</div>"
      ],
      "text/plain": [
       "   Unnamed: 0 trans_date_trans_time            cc_num  \\\n",
       "0           0   2019-01-01 00:00:18  2703186189652095   \n",
       "1           1   2019-01-01 00:00:44      630423337322   \n",
       "2           2   2019-01-01 00:00:51    38859492057661   \n",
       "\n",
       "                          merchant       category     amt      first     last  \\\n",
       "0       fraud_Rippin, Kub and Mann       misc_net    4.97   Jennifer    Banks   \n",
       "1  fraud_Heller, Gutmann and Zieme    grocery_pos  107.23  Stephanie     Gill   \n",
       "2             fraud_Lind-Buckridge  entertainment  220.11     Edward  Sanchez   \n",
       "\n",
       "  gender                        street  ...      lat      long  city_pop  \\\n",
       "0      F                561 Perry Cove  ...  36.0788  -81.1781      3495   \n",
       "1      F  43039 Riley Greens Suite 393  ...  48.8878 -118.2105       149   \n",
       "2      M      594 White Dale Suite 530  ...  42.1808 -112.2620      4154   \n",
       "\n",
       "                                 job         dob  \\\n",
       "0          Psychologist, counselling  1988-03-09   \n",
       "1  Special educational needs teacher  1978-06-21   \n",
       "2        Nature conservation officer  1962-01-19   \n",
       "\n",
       "                          trans_num   unix_time  merch_lat  merch_long  \\\n",
       "0  0b242abb623afc578575680df30655b9  1325376018  36.011293  -82.048315   \n",
       "1  1f76529f8574734946361c461b024d99  1325376044  49.159047 -118.186462   \n",
       "2  a1a22d70485983eac12b5b88dad1cf95  1325376051  43.150704 -112.154481   \n",
       "\n",
       "   is_fraud  \n",
       "0         0  \n",
       "1         0  \n",
       "2         0  \n",
       "\n",
       "[3 rows x 23 columns]"
      ]
     },
     "execution_count": 3,
     "metadata": {},
     "output_type": "execute_result"
    }
   ],
   "source": [
    "df.head(3) ## <-- looking at a sample of our dataframe"
   ]
  },
  {
   "cell_type": "code",
   "execution_count": 4,
   "metadata": {},
   "outputs": [
    {
     "data": {
      "text/html": [
       "<div>\n",
       "<style scoped>\n",
       "    .dataframe tbody tr th:only-of-type {\n",
       "        vertical-align: middle;\n",
       "    }\n",
       "\n",
       "    .dataframe tbody tr th {\n",
       "        vertical-align: top;\n",
       "    }\n",
       "\n",
       "    .dataframe thead th {\n",
       "        text-align: right;\n",
       "    }\n",
       "</style>\n",
       "<table border=\"1\" class=\"dataframe\">\n",
       "  <thead>\n",
       "    <tr style=\"text-align: right;\">\n",
       "      <th></th>\n",
       "      <th>trans_date_trans_time</th>\n",
       "      <th>cc_num</th>\n",
       "      <th>merchant</th>\n",
       "      <th>category</th>\n",
       "      <th>amt</th>\n",
       "      <th>first</th>\n",
       "      <th>last</th>\n",
       "      <th>gender</th>\n",
       "      <th>street</th>\n",
       "      <th>city</th>\n",
       "      <th>...</th>\n",
       "      <th>lat</th>\n",
       "      <th>long</th>\n",
       "      <th>city_pop</th>\n",
       "      <th>job</th>\n",
       "      <th>dob</th>\n",
       "      <th>trans_num</th>\n",
       "      <th>unix_time</th>\n",
       "      <th>merch_lat</th>\n",
       "      <th>merch_long</th>\n",
       "      <th>is_fraud</th>\n",
       "    </tr>\n",
       "  </thead>\n",
       "  <tbody>\n",
       "    <tr>\n",
       "      <th>0</th>\n",
       "      <td>2019-01-01 00:00:18</td>\n",
       "      <td>2703186189652095</td>\n",
       "      <td>fraud_Rippin, Kub and Mann</td>\n",
       "      <td>misc_net</td>\n",
       "      <td>4.97</td>\n",
       "      <td>Jennifer</td>\n",
       "      <td>Banks</td>\n",
       "      <td>F</td>\n",
       "      <td>561 Perry Cove</td>\n",
       "      <td>Moravian Falls</td>\n",
       "      <td>...</td>\n",
       "      <td>36.0788</td>\n",
       "      <td>-81.1781</td>\n",
       "      <td>3495</td>\n",
       "      <td>Psychologist, counselling</td>\n",
       "      <td>1988-03-09</td>\n",
       "      <td>0b242abb623afc578575680df30655b9</td>\n",
       "      <td>1325376018</td>\n",
       "      <td>36.011293</td>\n",
       "      <td>-82.048315</td>\n",
       "      <td>0</td>\n",
       "    </tr>\n",
       "    <tr>\n",
       "      <th>1</th>\n",
       "      <td>2019-01-01 00:00:44</td>\n",
       "      <td>630423337322</td>\n",
       "      <td>fraud_Heller, Gutmann and Zieme</td>\n",
       "      <td>grocery_pos</td>\n",
       "      <td>107.23</td>\n",
       "      <td>Stephanie</td>\n",
       "      <td>Gill</td>\n",
       "      <td>F</td>\n",
       "      <td>43039 Riley Greens Suite 393</td>\n",
       "      <td>Orient</td>\n",
       "      <td>...</td>\n",
       "      <td>48.8878</td>\n",
       "      <td>-118.2105</td>\n",
       "      <td>149</td>\n",
       "      <td>Special educational needs teacher</td>\n",
       "      <td>1978-06-21</td>\n",
       "      <td>1f76529f8574734946361c461b024d99</td>\n",
       "      <td>1325376044</td>\n",
       "      <td>49.159047</td>\n",
       "      <td>-118.186462</td>\n",
       "      <td>0</td>\n",
       "    </tr>\n",
       "    <tr>\n",
       "      <th>2</th>\n",
       "      <td>2019-01-01 00:00:51</td>\n",
       "      <td>38859492057661</td>\n",
       "      <td>fraud_Lind-Buckridge</td>\n",
       "      <td>entertainment</td>\n",
       "      <td>220.11</td>\n",
       "      <td>Edward</td>\n",
       "      <td>Sanchez</td>\n",
       "      <td>M</td>\n",
       "      <td>594 White Dale Suite 530</td>\n",
       "      <td>Malad City</td>\n",
       "      <td>...</td>\n",
       "      <td>42.1808</td>\n",
       "      <td>-112.2620</td>\n",
       "      <td>4154</td>\n",
       "      <td>Nature conservation officer</td>\n",
       "      <td>1962-01-19</td>\n",
       "      <td>a1a22d70485983eac12b5b88dad1cf95</td>\n",
       "      <td>1325376051</td>\n",
       "      <td>43.150704</td>\n",
       "      <td>-112.154481</td>\n",
       "      <td>0</td>\n",
       "    </tr>\n",
       "    <tr>\n",
       "      <th>3</th>\n",
       "      <td>2019-01-01 00:01:16</td>\n",
       "      <td>3534093764340240</td>\n",
       "      <td>fraud_Kutch, Hermiston and Farrell</td>\n",
       "      <td>gas_transport</td>\n",
       "      <td>45.00</td>\n",
       "      <td>Jeremy</td>\n",
       "      <td>White</td>\n",
       "      <td>M</td>\n",
       "      <td>9443 Cynthia Court Apt. 038</td>\n",
       "      <td>Boulder</td>\n",
       "      <td>...</td>\n",
       "      <td>46.2306</td>\n",
       "      <td>-112.1138</td>\n",
       "      <td>1939</td>\n",
       "      <td>Patent attorney</td>\n",
       "      <td>1967-01-12</td>\n",
       "      <td>6b849c168bdad6f867558c3793159a81</td>\n",
       "      <td>1325376076</td>\n",
       "      <td>47.034331</td>\n",
       "      <td>-112.561071</td>\n",
       "      <td>0</td>\n",
       "    </tr>\n",
       "    <tr>\n",
       "      <th>4</th>\n",
       "      <td>2019-01-01 00:03:06</td>\n",
       "      <td>375534208663984</td>\n",
       "      <td>fraud_Keeling-Crist</td>\n",
       "      <td>misc_pos</td>\n",
       "      <td>41.96</td>\n",
       "      <td>Tyler</td>\n",
       "      <td>Garcia</td>\n",
       "      <td>M</td>\n",
       "      <td>408 Bradley Rest</td>\n",
       "      <td>Doe Hill</td>\n",
       "      <td>...</td>\n",
       "      <td>38.4207</td>\n",
       "      <td>-79.4629</td>\n",
       "      <td>99</td>\n",
       "      <td>Dance movement psychotherapist</td>\n",
       "      <td>1986-03-28</td>\n",
       "      <td>a41d7549acf90789359a9aa5346dcb46</td>\n",
       "      <td>1325376186</td>\n",
       "      <td>38.674999</td>\n",
       "      <td>-78.632459</td>\n",
       "      <td>0</td>\n",
       "    </tr>\n",
       "  </tbody>\n",
       "</table>\n",
       "<p>5 rows × 22 columns</p>\n",
       "</div>"
      ],
      "text/plain": [
       "  trans_date_trans_time            cc_num                            merchant  \\\n",
       "0   2019-01-01 00:00:18  2703186189652095          fraud_Rippin, Kub and Mann   \n",
       "1   2019-01-01 00:00:44      630423337322     fraud_Heller, Gutmann and Zieme   \n",
       "2   2019-01-01 00:00:51    38859492057661                fraud_Lind-Buckridge   \n",
       "3   2019-01-01 00:01:16  3534093764340240  fraud_Kutch, Hermiston and Farrell   \n",
       "4   2019-01-01 00:03:06   375534208663984                 fraud_Keeling-Crist   \n",
       "\n",
       "        category     amt      first     last gender  \\\n",
       "0       misc_net    4.97   Jennifer    Banks      F   \n",
       "1    grocery_pos  107.23  Stephanie     Gill      F   \n",
       "2  entertainment  220.11     Edward  Sanchez      M   \n",
       "3  gas_transport   45.00     Jeremy    White      M   \n",
       "4       misc_pos   41.96      Tyler   Garcia      M   \n",
       "\n",
       "                         street            city  ...      lat      long  \\\n",
       "0                561 Perry Cove  Moravian Falls  ...  36.0788  -81.1781   \n",
       "1  43039 Riley Greens Suite 393          Orient  ...  48.8878 -118.2105   \n",
       "2      594 White Dale Suite 530      Malad City  ...  42.1808 -112.2620   \n",
       "3   9443 Cynthia Court Apt. 038         Boulder  ...  46.2306 -112.1138   \n",
       "4              408 Bradley Rest        Doe Hill  ...  38.4207  -79.4629   \n",
       "\n",
       "   city_pop                                job         dob  \\\n",
       "0      3495          Psychologist, counselling  1988-03-09   \n",
       "1       149  Special educational needs teacher  1978-06-21   \n",
       "2      4154        Nature conservation officer  1962-01-19   \n",
       "3      1939                    Patent attorney  1967-01-12   \n",
       "4        99     Dance movement psychotherapist  1986-03-28   \n",
       "\n",
       "                          trans_num   unix_time  merch_lat  merch_long  \\\n",
       "0  0b242abb623afc578575680df30655b9  1325376018  36.011293  -82.048315   \n",
       "1  1f76529f8574734946361c461b024d99  1325376044  49.159047 -118.186462   \n",
       "2  a1a22d70485983eac12b5b88dad1cf95  1325376051  43.150704 -112.154481   \n",
       "3  6b849c168bdad6f867558c3793159a81  1325376076  47.034331 -112.561071   \n",
       "4  a41d7549acf90789359a9aa5346dcb46  1325376186  38.674999  -78.632459   \n",
       "\n",
       "   is_fraud  \n",
       "0         0  \n",
       "1         0  \n",
       "2         0  \n",
       "3         0  \n",
       "4         0  \n",
       "\n",
       "[5 rows x 22 columns]"
      ]
     },
     "execution_count": 4,
     "metadata": {},
     "output_type": "execute_result"
    }
   ],
   "source": [
    "df = df.drop(columns = \"Unnamed: 0\") ## <-- dropping the extra index\n",
    "df.head() "
   ]
  },
  {
   "cell_type": "code",
   "execution_count": 5,
   "metadata": {},
   "outputs": [
    {
     "data": {
      "text/html": [
       "<div>\n",
       "<style scoped>\n",
       "    .dataframe tbody tr th:only-of-type {\n",
       "        vertical-align: middle;\n",
       "    }\n",
       "\n",
       "    .dataframe tbody tr th {\n",
       "        vertical-align: top;\n",
       "    }\n",
       "\n",
       "    .dataframe thead th {\n",
       "        text-align: right;\n",
       "    }\n",
       "</style>\n",
       "<table border=\"1\" class=\"dataframe\">\n",
       "  <thead>\n",
       "    <tr style=\"text-align: right;\">\n",
       "      <th></th>\n",
       "      <th>count</th>\n",
       "      <th>mean</th>\n",
       "      <th>std</th>\n",
       "      <th>min</th>\n",
       "      <th>25%</th>\n",
       "      <th>50%</th>\n",
       "      <th>75%</th>\n",
       "      <th>max</th>\n",
       "    </tr>\n",
       "  </thead>\n",
       "  <tbody>\n",
       "    <tr>\n",
       "      <th>cc_num</th>\n",
       "      <td>1296675.0</td>\n",
       "      <td>4.171920e+17</td>\n",
       "      <td>1.308806e+18</td>\n",
       "      <td>6.041621e+10</td>\n",
       "      <td>1.800429e+14</td>\n",
       "      <td>3.521417e+15</td>\n",
       "      <td>4.642255e+15</td>\n",
       "      <td>4.992346e+18</td>\n",
       "    </tr>\n",
       "    <tr>\n",
       "      <th>amt</th>\n",
       "      <td>1296675.0</td>\n",
       "      <td>7.035104e+01</td>\n",
       "      <td>1.603160e+02</td>\n",
       "      <td>1.000000e+00</td>\n",
       "      <td>9.650000e+00</td>\n",
       "      <td>4.752000e+01</td>\n",
       "      <td>8.314000e+01</td>\n",
       "      <td>2.894890e+04</td>\n",
       "    </tr>\n",
       "    <tr>\n",
       "      <th>zip</th>\n",
       "      <td>1296675.0</td>\n",
       "      <td>4.880067e+04</td>\n",
       "      <td>2.689322e+04</td>\n",
       "      <td>1.257000e+03</td>\n",
       "      <td>2.623700e+04</td>\n",
       "      <td>4.817400e+04</td>\n",
       "      <td>7.204200e+04</td>\n",
       "      <td>9.978300e+04</td>\n",
       "    </tr>\n",
       "    <tr>\n",
       "      <th>lat</th>\n",
       "      <td>1296675.0</td>\n",
       "      <td>3.853762e+01</td>\n",
       "      <td>5.075808e+00</td>\n",
       "      <td>2.002710e+01</td>\n",
       "      <td>3.462050e+01</td>\n",
       "      <td>3.935430e+01</td>\n",
       "      <td>4.194040e+01</td>\n",
       "      <td>6.669330e+01</td>\n",
       "    </tr>\n",
       "    <tr>\n",
       "      <th>long</th>\n",
       "      <td>1296675.0</td>\n",
       "      <td>-9.022634e+01</td>\n",
       "      <td>1.375908e+01</td>\n",
       "      <td>-1.656723e+02</td>\n",
       "      <td>-9.679800e+01</td>\n",
       "      <td>-8.747690e+01</td>\n",
       "      <td>-8.015800e+01</td>\n",
       "      <td>-6.795030e+01</td>\n",
       "    </tr>\n",
       "    <tr>\n",
       "      <th>city_pop</th>\n",
       "      <td>1296675.0</td>\n",
       "      <td>8.882444e+04</td>\n",
       "      <td>3.019564e+05</td>\n",
       "      <td>2.300000e+01</td>\n",
       "      <td>7.430000e+02</td>\n",
       "      <td>2.456000e+03</td>\n",
       "      <td>2.032800e+04</td>\n",
       "      <td>2.906700e+06</td>\n",
       "    </tr>\n",
       "    <tr>\n",
       "      <th>unix_time</th>\n",
       "      <td>1296675.0</td>\n",
       "      <td>1.349244e+09</td>\n",
       "      <td>1.284128e+07</td>\n",
       "      <td>1.325376e+09</td>\n",
       "      <td>1.338751e+09</td>\n",
       "      <td>1.349250e+09</td>\n",
       "      <td>1.359385e+09</td>\n",
       "      <td>1.371817e+09</td>\n",
       "    </tr>\n",
       "    <tr>\n",
       "      <th>merch_lat</th>\n",
       "      <td>1296675.0</td>\n",
       "      <td>3.853734e+01</td>\n",
       "      <td>5.109788e+00</td>\n",
       "      <td>1.902779e+01</td>\n",
       "      <td>3.473357e+01</td>\n",
       "      <td>3.936568e+01</td>\n",
       "      <td>4.195716e+01</td>\n",
       "      <td>6.751027e+01</td>\n",
       "    </tr>\n",
       "    <tr>\n",
       "      <th>merch_long</th>\n",
       "      <td>1296675.0</td>\n",
       "      <td>-9.022646e+01</td>\n",
       "      <td>1.377109e+01</td>\n",
       "      <td>-1.666712e+02</td>\n",
       "      <td>-9.689728e+01</td>\n",
       "      <td>-8.743839e+01</td>\n",
       "      <td>-8.023680e+01</td>\n",
       "      <td>-6.695090e+01</td>\n",
       "    </tr>\n",
       "    <tr>\n",
       "      <th>is_fraud</th>\n",
       "      <td>1296675.0</td>\n",
       "      <td>5.788652e-03</td>\n",
       "      <td>7.586269e-02</td>\n",
       "      <td>0.000000e+00</td>\n",
       "      <td>0.000000e+00</td>\n",
       "      <td>0.000000e+00</td>\n",
       "      <td>0.000000e+00</td>\n",
       "      <td>1.000000e+00</td>\n",
       "    </tr>\n",
       "  </tbody>\n",
       "</table>\n",
       "</div>"
      ],
      "text/plain": [
       "                count          mean           std           min           25%  \\\n",
       "cc_num      1296675.0  4.171920e+17  1.308806e+18  6.041621e+10  1.800429e+14   \n",
       "amt         1296675.0  7.035104e+01  1.603160e+02  1.000000e+00  9.650000e+00   \n",
       "zip         1296675.0  4.880067e+04  2.689322e+04  1.257000e+03  2.623700e+04   \n",
       "lat         1296675.0  3.853762e+01  5.075808e+00  2.002710e+01  3.462050e+01   \n",
       "long        1296675.0 -9.022634e+01  1.375908e+01 -1.656723e+02 -9.679800e+01   \n",
       "city_pop    1296675.0  8.882444e+04  3.019564e+05  2.300000e+01  7.430000e+02   \n",
       "unix_time   1296675.0  1.349244e+09  1.284128e+07  1.325376e+09  1.338751e+09   \n",
       "merch_lat   1296675.0  3.853734e+01  5.109788e+00  1.902779e+01  3.473357e+01   \n",
       "merch_long  1296675.0 -9.022646e+01  1.377109e+01 -1.666712e+02 -9.689728e+01   \n",
       "is_fraud    1296675.0  5.788652e-03  7.586269e-02  0.000000e+00  0.000000e+00   \n",
       "\n",
       "                     50%           75%           max  \n",
       "cc_num      3.521417e+15  4.642255e+15  4.992346e+18  \n",
       "amt         4.752000e+01  8.314000e+01  2.894890e+04  \n",
       "zip         4.817400e+04  7.204200e+04  9.978300e+04  \n",
       "lat         3.935430e+01  4.194040e+01  6.669330e+01  \n",
       "long       -8.747690e+01 -8.015800e+01 -6.795030e+01  \n",
       "city_pop    2.456000e+03  2.032800e+04  2.906700e+06  \n",
       "unix_time   1.349250e+09  1.359385e+09  1.371817e+09  \n",
       "merch_lat   3.936568e+01  4.195716e+01  6.751027e+01  \n",
       "merch_long -8.743839e+01 -8.023680e+01 -6.695090e+01  \n",
       "is_fraud    0.000000e+00  0.000000e+00  1.000000e+00  "
      ]
     },
     "execution_count": 5,
     "metadata": {},
     "output_type": "execute_result"
    }
   ],
   "source": [
    "df.describe().T  ## <-- Looking at our transposed numerical statistics"
   ]
  },
  {
   "cell_type": "code",
   "execution_count": 6,
   "metadata": {},
   "outputs": [
    {
     "name": "stdout",
     "output_type": "stream",
     "text": [
      "<class 'pandas.core.frame.DataFrame'>\n",
      "RangeIndex: 1296675 entries, 0 to 1296674\n",
      "Data columns (total 22 columns):\n",
      " #   Column                 Non-Null Count    Dtype  \n",
      "---  ------                 --------------    -----  \n",
      " 0   trans_date_trans_time  1296675 non-null  object \n",
      " 1   cc_num                 1296675 non-null  int64  \n",
      " 2   merchant               1296675 non-null  object \n",
      " 3   category               1296675 non-null  object \n",
      " 4   amt                    1296675 non-null  float64\n",
      " 5   first                  1296675 non-null  object \n",
      " 6   last                   1296675 non-null  object \n",
      " 7   gender                 1296675 non-null  object \n",
      " 8   street                 1296675 non-null  object \n",
      " 9   city                   1296675 non-null  object \n",
      " 10  state                  1296675 non-null  object \n",
      " 11  zip                    1296675 non-null  int64  \n",
      " 12  lat                    1296675 non-null  float64\n",
      " 13  long                   1296675 non-null  float64\n",
      " 14  city_pop               1296675 non-null  int64  \n",
      " 15  job                    1296675 non-null  object \n",
      " 16  dob                    1296675 non-null  object \n",
      " 17  trans_num              1296675 non-null  object \n",
      " 18  unix_time              1296675 non-null  int64  \n",
      " 19  merch_lat              1296675 non-null  float64\n",
      " 20  merch_long             1296675 non-null  float64\n",
      " 21  is_fraud               1296675 non-null  int64  \n",
      "dtypes: float64(5), int64(5), object(12)\n",
      "memory usage: 217.6+ MB\n"
     ]
    }
   ],
   "source": [
    "df.info() ## <-- looking at our columns and datatypes"
   ]
  },
  {
   "cell_type": "code",
   "execution_count": 7,
   "metadata": {},
   "outputs": [
    {
     "data": {
      "text/plain": [
       "0    1289169\n",
       "1       7506\n",
       "Name: is_fraud, dtype: int64"
      ]
     },
     "execution_count": 7,
     "metadata": {},
     "output_type": "execute_result"
    }
   ],
   "source": [
    "df.is_fraud.value_counts() ## <-- looking at target variable value counts"
   ]
  },
  {
   "cell_type": "code",
   "execution_count": 8,
   "metadata": {},
   "outputs": [
    {
     "name": "stdout",
     "output_type": "stream",
     "text": [
      "state Value Counts:\n",
      "\n",
      "TX    94876\n",
      "NY    83501\n",
      "PA    79847\n",
      "CA    56360\n",
      "OH    46480\n",
      "MI    46154\n",
      "IL    43252\n",
      "FL    42671\n",
      "AL    40989\n",
      "MO    38403\n",
      "MN    31714\n",
      "AR    31127\n",
      "NC    30266\n",
      "WI    29368\n",
      "VA    29250\n",
      "SC    29190\n",
      "KY    28475\n",
      "IN    27580\n",
      "IA    26985\n",
      "OK    26671\n",
      "MD    26193\n",
      "GA    26063\n",
      "WV    25691\n",
      "NJ    24603\n",
      "NE    24168\n",
      "KS    22996\n",
      "MS    21188\n",
      "LA    20965\n",
      "WY    19322\n",
      "WA    18924\n",
      "OR    18597\n",
      "TN    17554\n",
      "ME    16505\n",
      "NM    16407\n",
      "ND    14786\n",
      "CO    13880\n",
      "MA    12376\n",
      "SD    12324\n",
      "VT    11768\n",
      "MT    11754\n",
      "AZ    10770\n",
      "UT    10699\n",
      "NH     8278\n",
      "CT     7702\n",
      "NV     5607\n",
      "ID     5545\n",
      "DC     3613\n",
      "HI     2559\n",
      "AK     2120\n",
      "RI      550\n",
      "DE        9\n",
      "Name: state, dtype: int64\n",
      "-----------------------\n",
      "gender Value Counts:\n",
      "\n",
      "F    709863\n",
      "M    586812\n",
      "Name: gender, dtype: int64\n",
      "-----------------------\n",
      "category Value Counts:\n",
      "\n",
      "gas_transport     131659\n",
      "grocery_pos       123638\n",
      "home              123115\n",
      "shopping_pos      116672\n",
      "kids_pets         113035\n",
      "shopping_net       97543\n",
      "entertainment      94014\n",
      "food_dining        91461\n",
      "personal_care      90758\n",
      "health_fitness     85879\n",
      "misc_pos           79655\n",
      "misc_net           63287\n",
      "grocery_net        45452\n",
      "travel             40507\n",
      "Name: category, dtype: int64\n",
      "-----------------------\n",
      "job Value Counts:\n",
      "\n",
      "Film/video editor                 9779\n",
      "Exhibition designer               9199\n",
      "Naval architect                   8684\n",
      "Surveyor, land/geomatics          8680\n",
      "Materials engineer                8270\n",
      "                                  ... \n",
      "Armed forces technical officer       8\n",
      "Information officer                  8\n",
      "Warehouse manager                    7\n",
      "Ship broker                          7\n",
      "Contracting civil engineer           7\n",
      "Name: job, Length: 494, dtype: int64\n",
      "-----------------------\n"
     ]
    }
   ],
   "source": [
    "## creating a list of columns I want value counts for\n",
    "\n",
    "cols = ['state', 'gender', 'category', 'job'] \n",
    "\n",
    "for col in cols:\n",
    "    print(f'{col} Value Counts:\\n')\n",
    "    print(df[col].value_counts())\n",
    "    print('-----------------------')"
   ]
  },
  {
   "cell_type": "markdown",
   "metadata": {},
   "source": [
    "### Prepare"
   ]
  },
  {
   "cell_type": "code",
   "execution_count": 9,
   "metadata": {},
   "outputs": [
    {
     "data": {
      "text/plain": [
       "trans_date_trans_time    0\n",
       "cc_num                   0\n",
       "merchant                 0\n",
       "category                 0\n",
       "amt                      0\n",
       "first                    0\n",
       "last                     0\n",
       "gender                   0\n",
       "street                   0\n",
       "city                     0\n",
       "state                    0\n",
       "zip                      0\n",
       "lat                      0\n",
       "long                     0\n",
       "city_pop                 0\n",
       "job                      0\n",
       "dob                      0\n",
       "trans_num                0\n",
       "unix_time                0\n",
       "merch_lat                0\n",
       "merch_long               0\n",
       "is_fraud                 0\n",
       "dtype: int64"
      ]
     },
     "execution_count": 9,
     "metadata": {},
     "output_type": "execute_result"
    }
   ],
   "source": [
    "df.isna().sum() ## <-- checking for null values we don't have any that is good"
   ]
  },
  {
   "cell_type": "markdown",
   "metadata": {},
   "source": [
    "#### Creating Datetime object and Columns"
   ]
  },
  {
   "cell_type": "code",
   "execution_count": 10,
   "metadata": {},
   "outputs": [
    {
     "data": {
      "text/html": [
       "<div>\n",
       "<style scoped>\n",
       "    .dataframe tbody tr th:only-of-type {\n",
       "        vertical-align: middle;\n",
       "    }\n",
       "\n",
       "    .dataframe tbody tr th {\n",
       "        vertical-align: top;\n",
       "    }\n",
       "\n",
       "    .dataframe thead th {\n",
       "        text-align: right;\n",
       "    }\n",
       "</style>\n",
       "<table border=\"1\" class=\"dataframe\">\n",
       "  <thead>\n",
       "    <tr style=\"text-align: right;\">\n",
       "      <th></th>\n",
       "      <th>trans_time</th>\n",
       "      <th>cc_num</th>\n",
       "      <th>merchant</th>\n",
       "      <th>category</th>\n",
       "      <th>amt</th>\n",
       "      <th>first</th>\n",
       "      <th>last</th>\n",
       "      <th>gender</th>\n",
       "      <th>street</th>\n",
       "      <th>city</th>\n",
       "      <th>...</th>\n",
       "      <th>lat</th>\n",
       "      <th>long</th>\n",
       "      <th>city_pop</th>\n",
       "      <th>job</th>\n",
       "      <th>dob</th>\n",
       "      <th>trans_num</th>\n",
       "      <th>unix_time</th>\n",
       "      <th>merch_lat</th>\n",
       "      <th>merch_long</th>\n",
       "      <th>is_fraud</th>\n",
       "    </tr>\n",
       "  </thead>\n",
       "  <tbody>\n",
       "    <tr>\n",
       "      <th>0</th>\n",
       "      <td>2019-01-01 00:00:18</td>\n",
       "      <td>2703186189652095</td>\n",
       "      <td>fraud_Rippin, Kub and Mann</td>\n",
       "      <td>misc_net</td>\n",
       "      <td>4.97</td>\n",
       "      <td>Jennifer</td>\n",
       "      <td>Banks</td>\n",
       "      <td>F</td>\n",
       "      <td>561 Perry Cove</td>\n",
       "      <td>Moravian Falls</td>\n",
       "      <td>...</td>\n",
       "      <td>36.0788</td>\n",
       "      <td>-81.1781</td>\n",
       "      <td>3495</td>\n",
       "      <td>Psychologist, counselling</td>\n",
       "      <td>1988-03-09</td>\n",
       "      <td>0b242abb623afc578575680df30655b9</td>\n",
       "      <td>1325376018</td>\n",
       "      <td>36.011293</td>\n",
       "      <td>-82.048315</td>\n",
       "      <td>0</td>\n",
       "    </tr>\n",
       "  </tbody>\n",
       "</table>\n",
       "<p>1 rows × 22 columns</p>\n",
       "</div>"
      ],
      "text/plain": [
       "            trans_time            cc_num                    merchant  \\\n",
       "0  2019-01-01 00:00:18  2703186189652095  fraud_Rippin, Kub and Mann   \n",
       "\n",
       "   category   amt     first   last gender          street            city  \\\n",
       "0  misc_net  4.97  Jennifer  Banks      F  561 Perry Cove  Moravian Falls   \n",
       "\n",
       "   ...      lat     long  city_pop                        job         dob  \\\n",
       "0  ...  36.0788 -81.1781      3495  Psychologist, counselling  1988-03-09   \n",
       "\n",
       "                          trans_num   unix_time  merch_lat  merch_long  \\\n",
       "0  0b242abb623afc578575680df30655b9  1325376018  36.011293  -82.048315   \n",
       "\n",
       "   is_fraud  \n",
       "0         0  \n",
       "\n",
       "[1 rows x 22 columns]"
      ]
     },
     "execution_count": 10,
     "metadata": {},
     "output_type": "execute_result"
    }
   ],
   "source": [
    "df = df.rename(columns = {'trans_date_trans_time': 'trans_time'})\n",
    "df.head(1)"
   ]
  },
  {
   "cell_type": "code",
   "execution_count": 11,
   "metadata": {},
   "outputs": [],
   "source": [
    "## turn the transaction time to datetime format\n",
    "\n",
    "df.trans_time = pd.to_datetime(df.trans_time) "
   ]
  },
  {
   "cell_type": "markdown",
   "metadata": {},
   "source": [
    "#### Using Datetime \n",
    " - Deriving More Features\n",
    "     - Hour\n",
    "     - Weekday\n",
    "     - Month\n",
    "     - Year\n",
    "     "
   ]
  },
  {
   "cell_type": "code",
   "execution_count": 12,
   "metadata": {},
   "outputs": [
    {
     "data": {
      "text/plain": [
       "0          1\n",
       "1          1\n",
       "2          1\n",
       "3          1\n",
       "4          1\n",
       "          ..\n",
       "1296670    6\n",
       "1296671    6\n",
       "1296672    6\n",
       "1296673    6\n",
       "1296674    6\n",
       "Name: weekday, Length: 1296675, dtype: int64"
      ]
     },
     "execution_count": 12,
     "metadata": {},
     "output_type": "execute_result"
    }
   ],
   "source": [
    "df['weekday'] = df['trans_time'].dt.weekday ## getting weekday column\n",
    "df['weekday']"
   ]
  },
  {
   "cell_type": "code",
   "execution_count": 13,
   "metadata": {},
   "outputs": [
    {
     "data": {
      "text/plain": [
       "0           0\n",
       "1           0\n",
       "2           0\n",
       "3           0\n",
       "4           0\n",
       "           ..\n",
       "1296670    12\n",
       "1296671    12\n",
       "1296672    12\n",
       "1296673    12\n",
       "1296674    12\n",
       "Name: trans_hour, Length: 1296675, dtype: int64"
      ]
     },
     "execution_count": 13,
     "metadata": {},
     "output_type": "execute_result"
    }
   ],
   "source": [
    "df['trans_hour'] = df['trans_time'].dt.hour ## getting hour column\n",
    "df['trans_hour']"
   ]
  },
  {
   "cell_type": "code",
   "execution_count": 14,
   "metadata": {},
   "outputs": [
    {
     "data": {
      "text/plain": [
       "0          2019\n",
       "1          2019\n",
       "2          2019\n",
       "3          2019\n",
       "4          2019\n",
       "           ... \n",
       "1296670    2020\n",
       "1296671    2020\n",
       "1296672    2020\n",
       "1296673    2020\n",
       "1296674    2020\n",
       "Name: year, Length: 1296675, dtype: int64"
      ]
     },
     "execution_count": 14,
     "metadata": {},
     "output_type": "execute_result"
    }
   ],
   "source": [
    "df['year'] = df['trans_time'].dt.year ## getting year column\n",
    "df['year']"
   ]
  },
  {
   "cell_type": "code",
   "execution_count": 15,
   "metadata": {},
   "outputs": [
    {
     "data": {
      "text/plain": [
       "0          1\n",
       "1          1\n",
       "2          1\n",
       "3          1\n",
       "4          1\n",
       "          ..\n",
       "1296670    6\n",
       "1296671    6\n",
       "1296672    6\n",
       "1296673    6\n",
       "1296674    6\n",
       "Name: month, Length: 1296675, dtype: int64"
      ]
     },
     "execution_count": 15,
     "metadata": {},
     "output_type": "execute_result"
    }
   ],
   "source": [
    "df['month'] = df['trans_time'].dt.month ## getting month column\n",
    "df['month']"
   ]
  },
  {
   "cell_type": "code",
   "execution_count": 16,
   "metadata": {},
   "outputs": [
    {
     "data": {
      "text/plain": [
       "0    1162589\n",
       "1     134086\n",
       "Name: late_night, dtype: int64"
      ]
     },
     "execution_count": 16,
     "metadata": {},
     "output_type": "execute_result"
    }
   ],
   "source": [
    "## making a late_night feature where the transactions of fraud are most commmon\n",
    "\n",
    "df['late_night'] = np.where(((df.trans_hour == 22) | (df.trans_hour == 23)), 1, 0)\n",
    "df.late_night.value_counts()"
   ]
  },
  {
   "cell_type": "markdown",
   "metadata": {},
   "source": [
    "#### Feature Engineering"
   ]
  },
  {
   "cell_type": "code",
   "execution_count": 17,
   "metadata": {},
   "outputs": [],
   "source": [
    "## making boolean columns for hypothesized common fraud purchase categories\n",
    "\n",
    "df['entertainment'] = np.where(df.category == 'entertainment', 1, 0)\n",
    "df['home'] = np.where(df.category == 'home', 1, 0)\n",
    "df['shopping_net'] = np.where(df.category == 'shopping_net', 1, 0)\n",
    "df['misc_net'] = np.where(df.category == 'misc_net', 1, 0)\n",
    "df['grocery_net'] = np.where(df.category == 'grocery_net', 1, 0)\n",
    "df['grocery_pos'] = np.where(df.category == 'grocery_pos', 1, 0)\n",
    "df['travel'] = np.where(df.category == 'travel', 1, 0)\n",
    "\n",
    "## making a high fraud category where fraud transactions is most likely based on crosstabs\n",
    "df['high_fraud_cat'] = np.where(((df.category == 'grocery_pos') | (df.category == 'shopping_net')), 1, 0)\n",
    "\n",
    "## making boolean columns for other columns that may be valueable to split up\n",
    "\n",
    "df['is_male'] = np.where(df.gender == 'M', 1, 0)\n",
    "df['is_female'] = np.where(df.gender == 'F', 1, 0)\n",
    "\n",
    "## States with highest amounts of CC Fraud (looked on internet)\n",
    "\n",
    "df['Nevada'] = np.where(df.state == 'NV', 1, 0)\n",
    "df['California'] = np.where(df.state == 'CA', 1, 0)\n",
    "df['New_Mexico'] = np.where(df.state == 'NM', 1, 0)\n",
    "df['Florida'] = np.where(df.state == 'FL', 1, 0)\n",
    "df['Texas'] = np.where(df.state == 'TX', 1, 0)\n",
    "df['Virginia'] = np.where(df.state == 'VA', 1, 0)\n",
    "df['Arizona'] = np.where(df.state == 'AZ', 1, 0)"
   ]
  },
  {
   "cell_type": "code",
   "execution_count": 18,
   "metadata": {},
   "outputs": [
    {
     "data": {
      "text/plain": [
       "0          31\n",
       "1          41\n",
       "2          57\n",
       "3          52\n",
       "4          33\n",
       "           ..\n",
       "1296670    59\n",
       "1296671    41\n",
       "1296672    53\n",
       "1296673    40\n",
       "1296674    25\n",
       "Name: customer_age, Length: 1296675, dtype: int64"
      ]
     },
     "execution_count": 18,
     "metadata": {},
     "output_type": "execute_result"
    }
   ],
   "source": [
    "## Getting the Age of the Customer\n",
    "\n",
    "df['dob'] = pd.to_datetime(df['dob'])\n",
    "df['customer_age'] = np.round((df['trans_time'] - df['dob'])/np.timedelta64(1,'Y'))\n",
    "\n",
    "df['customer_age'] = df['customer_age'].astype(int)\n",
    "df['customer_age']"
   ]
  },
  {
   "cell_type": "markdown",
   "metadata": {},
   "source": [
    "#### Making Bins"
   ]
  },
  {
   "cell_type": "code",
   "execution_count": 19,
   "metadata": {},
   "outputs": [
    {
     "data": {
      "text/plain": [
       "(96, 14)"
      ]
     },
     "execution_count": 19,
     "metadata": {},
     "output_type": "execute_result"
    }
   ],
   "source": [
    "## Looking at our maximum age and minimum age to make some age bins\n",
    "\n",
    "df.customer_age.max(), df.customer_age.min()"
   ]
  },
  {
   "cell_type": "code",
   "execution_count": 20,
   "metadata": {},
   "outputs": [
    {
     "data": {
      "text/plain": [
       "2    502486\n",
       "3    488483\n",
       "4    262691\n",
       "1     43015\n",
       "Name: age_bin, dtype: int64"
      ]
     },
     "execution_count": 20,
     "metadata": {},
     "output_type": "execute_result"
    }
   ],
   "source": [
    "## creating the age bins with integer labels for easier feature engineering\n",
    "\n",
    "df['age_bin'] = pd.cut(df.customer_age, \n",
    "                       bins = [0, 20, 40, 60, 96],\n",
    "                       labels = [1, 2, 3, 4])\n",
    "\n",
    "df['age_bin'].value_counts() ## <-- quality assurance check of column values"
   ]
  },
  {
   "cell_type": "code",
   "execution_count": 21,
   "metadata": {},
   "outputs": [
    {
     "data": {
      "text/plain": [
       "(28948.9, 1.0)"
      ]
     },
     "execution_count": 21,
     "metadata": {},
     "output_type": "execute_result"
    }
   ],
   "source": [
    "## Looking at our maximum amount and minimum amount to make some transaction amount bins\n",
    "\n",
    "df.amt.max(), df.amt.min()"
   ]
  },
  {
   "cell_type": "code",
   "execution_count": 22,
   "metadata": {},
   "outputs": [
    {
     "data": {
      "text/plain": [
       "<AxesSubplot:xlabel='amt'>"
      ]
     },
     "execution_count": 22,
     "metadata": {},
     "output_type": "execute_result"
    },
    {
     "data": {
      "image/png": "[encoded data removed]",
      "text/plain": [
       "<Figure size 432x288 with 1 Axes>"
      ]
     },
     "metadata": {
      "needs_background": "light"
     },
     "output_type": "display_data"
    }
   ],
   "source": [
    "## Visualizing amounts to help my decision with binning\n",
    "\n",
    "sns.boxplot(data = df, x = 'amt')"
   ]
  },
  {
   "cell_type": "code",
   "execution_count": 23,
   "metadata": {},
   "outputs": [
    {
     "data": {
      "text/plain": [
       "1    463556\n",
       "4    389483\n",
       "5    172969\n",
       "2    118829\n",
       "3     89914\n",
       "6     61924\n",
       "Name: amt_bin, dtype: int64"
      ]
     },
     "execution_count": 23,
     "metadata": {},
     "output_type": "execute_result"
    }
   ],
   "source": [
    "## creating the amount bins with integer labels for easier feature engineering\n",
    "\n",
    "df['amt_bin'] = pd.cut(df.amt, \n",
    "                       bins = [0, 25, 40, 50, 100, 200, 30000],\n",
    "                       labels = [1, 2, 3, 4, 5, 6])\n",
    "\n",
    "df['amt_bin'].value_counts() ## <-- quality assurance check of my amt_bin column"
   ]
  },
  {
   "cell_type": "markdown",
   "metadata": {},
   "source": [
    "##### Using Bins to Make Features"
   ]
  },
  {
   "cell_type": "code",
   "execution_count": 24,
   "metadata": {},
   "outputs": [],
   "source": [
    "## Making categorical Columns for the amount bin that I created\n",
    "\n",
    "df['0-25_dollars'] = np.where(df.amt_bin == 1, 1, 0)\n",
    "df['25-40_dollars'] = np.where(df.amt_bin == 2, 1, 0)\n",
    "df['40-50_dollars'] = np.where(df.amt_bin == 3, 1, 0)\n",
    "df['50-100_dollars'] = np.where(df.amt_bin == 4, 1, 0)\n",
    "df['100-200_dollars'] = np.where(df.amt_bin == 5, 1, 0)\n",
    "df['high_dollars'] = np.where(df.amt_bin == 6, 1, 0)\n",
    "\n",
    "## Making categorical Columns for the age bin that I created\n",
    "\n",
    "df['0-20_age'] = np.where(df.age_bin == 1, 1, 0)\n",
    "df['20-40_age'] = np.where(df.age_bin == 2, 1, 0)\n",
    "df['40-60_age'] = np.where(df.age_bin == 3, 1, 0)\n",
    "df['60-96_age'] = np.where(df.age_bin == 4, 1, 0)"
   ]
  },
  {
   "cell_type": "markdown",
   "metadata": {},
   "source": [
    "#### Performing Train Test Split"
   ]
  },
  {
   "cell_type": "code",
   "execution_count": 25,
   "metadata": {},
   "outputs": [],
   "source": [
    "## splitting the data stratifying for out target variable is_fraud\n",
    "\n",
    "train_validate, test = train_test_split(df, test_size=.2, \n",
    "                                    random_state=123,\n",
    "                                    stratify = df.is_fraud)\n",
    "train, validate = train_test_split(train_validate, test_size=.3, \n",
    "                               random_state=123,\n",
    "                               stratify= train_validate.is_fraud)"
   ]
  },
  {
   "cell_type": "code",
   "execution_count": 26,
   "metadata": {},
   "outputs": [
    {
     "data": {
      "text/plain": [
       "((726138, 57), (311202, 57), (259335, 57))"
      ]
     },
     "execution_count": 26,
     "metadata": {},
     "output_type": "execute_result"
    }
   ],
   "source": [
    "train.shape, validate.shape, test.shape ## <-- making sure our shapes look good"
   ]
  },
  {
   "cell_type": "markdown",
   "metadata": {},
   "source": [
    "#### Making sure we have positive cases of fraud in each split"
   ]
  },
  {
   "cell_type": "code",
   "execution_count": 27,
   "metadata": {},
   "outputs": [
    {
     "data": {
      "text/plain": [
       "0    721934\n",
       "1      4204\n",
       "Name: is_fraud, dtype: int64"
      ]
     },
     "execution_count": 27,
     "metadata": {},
     "output_type": "execute_result"
    }
   ],
   "source": [
    "train.is_fraud.value_counts()"
   ]
  },
  {
   "cell_type": "code",
   "execution_count": 28,
   "metadata": {},
   "outputs": [
    {
     "data": {
      "text/plain": [
       "0    309401\n",
       "1      1801\n",
       "Name: is_fraud, dtype: int64"
      ]
     },
     "execution_count": 28,
     "metadata": {},
     "output_type": "execute_result"
    }
   ],
   "source": [
    "validate.is_fraud.value_counts()"
   ]
  },
  {
   "cell_type": "code",
   "execution_count": 29,
   "metadata": {},
   "outputs": [
    {
     "data": {
      "text/plain": [
       "0    257834\n",
       "1      1501\n",
       "Name: is_fraud, dtype: int64"
      ]
     },
     "execution_count": 29,
     "metadata": {},
     "output_type": "execute_result"
    }
   ],
   "source": [
    "test.is_fraud.value_counts()"
   ]
  },
  {
   "cell_type": "markdown",
   "metadata": {},
   "source": [
    "#### Peeking at Train Split"
   ]
  },
  {
   "cell_type": "code",
   "execution_count": 30,
   "metadata": {},
   "outputs": [
    {
     "name": "stdout",
     "output_type": "stream",
     "text": [
      "Index(['trans_time', 'cc_num', 'merchant', 'category', 'amt', 'first', 'last',\n",
      "       'gender', 'street', 'city', 'state', 'zip', 'lat', 'long', 'city_pop',\n",
      "       'job', 'dob', 'trans_num', 'unix_time', 'merch_lat', 'merch_long',\n",
      "       'is_fraud', 'weekday', 'trans_hour', 'year', 'month', 'late_night',\n",
      "       'entertainment', 'home', 'shopping_net', 'misc_net', 'grocery_net',\n",
      "       'grocery_pos', 'travel', 'high_fraud_cat', 'is_male', 'is_female',\n",
      "       'Nevada', 'California', 'New_Mexico', 'Florida', 'Texas', 'Virginia',\n",
      "       'Arizona', 'customer_age', 'age_bin', 'amt_bin', '0-25_dollars',\n",
      "       '25-40_dollars', '40-50_dollars', '50-100_dollars', '100-200_dollars',\n",
      "       'high_dollars', '0-20_age', '20-40_age', '40-60_age', '60-96_age'],\n",
      "      dtype='object')\n"
     ]
    },
    {
     "data": {
      "text/html": [
       "<div>\n",
       "<style scoped>\n",
       "    .dataframe tbody tr th:only-of-type {\n",
       "        vertical-align: middle;\n",
       "    }\n",
       "\n",
       "    .dataframe tbody tr th {\n",
       "        vertical-align: top;\n",
       "    }\n",
       "\n",
       "    .dataframe thead th {\n",
       "        text-align: right;\n",
       "    }\n",
       "</style>\n",
       "<table border=\"1\" class=\"dataframe\">\n",
       "  <thead>\n",
       "    <tr style=\"text-align: right;\">\n",
       "      <th></th>\n",
       "      <th>trans_time</th>\n",
       "      <th>cc_num</th>\n",
       "      <th>merchant</th>\n",
       "      <th>category</th>\n",
       "      <th>amt</th>\n",
       "      <th>first</th>\n",
       "      <th>last</th>\n",
       "      <th>gender</th>\n",
       "      <th>street</th>\n",
       "      <th>city</th>\n",
       "      <th>...</th>\n",
       "      <th>0-25_dollars</th>\n",
       "      <th>25-40_dollars</th>\n",
       "      <th>40-50_dollars</th>\n",
       "      <th>50-100_dollars</th>\n",
       "      <th>100-200_dollars</th>\n",
       "      <th>high_dollars</th>\n",
       "      <th>0-20_age</th>\n",
       "      <th>20-40_age</th>\n",
       "      <th>40-60_age</th>\n",
       "      <th>60-96_age</th>\n",
       "    </tr>\n",
       "  </thead>\n",
       "  <tbody>\n",
       "    <tr>\n",
       "      <th>76830</th>\n",
       "      <td>2019-02-15 02:48:54</td>\n",
       "      <td>180011453250192</td>\n",
       "      <td>fraud_Volkman-Predovic</td>\n",
       "      <td>shopping_net</td>\n",
       "      <td>97.35</td>\n",
       "      <td>Craig</td>\n",
       "      <td>Dunn</td>\n",
       "      <td>M</td>\n",
       "      <td>721 Jacqueline Brooks</td>\n",
       "      <td>New Boston</td>\n",
       "      <td>...</td>\n",
       "      <td>0</td>\n",
       "      <td>0</td>\n",
       "      <td>0</td>\n",
       "      <td>1</td>\n",
       "      <td>0</td>\n",
       "      <td>0</td>\n",
       "      <td>0</td>\n",
       "      <td>1</td>\n",
       "      <td>0</td>\n",
       "      <td>0</td>\n",
       "    </tr>\n",
       "    <tr>\n",
       "      <th>140225</th>\n",
       "      <td>2019-03-17 15:01:34</td>\n",
       "      <td>676308307625</td>\n",
       "      <td>fraud_Thiel PLC</td>\n",
       "      <td>misc_pos</td>\n",
       "      <td>160.97</td>\n",
       "      <td>Donald</td>\n",
       "      <td>Evans</td>\n",
       "      <td>M</td>\n",
       "      <td>1287 Michael Roads</td>\n",
       "      <td>Washoe Valley</td>\n",
       "      <td>...</td>\n",
       "      <td>0</td>\n",
       "      <td>0</td>\n",
       "      <td>0</td>\n",
       "      <td>0</td>\n",
       "      <td>1</td>\n",
       "      <td>0</td>\n",
       "      <td>0</td>\n",
       "      <td>1</td>\n",
       "      <td>0</td>\n",
       "      <td>0</td>\n",
       "    </tr>\n",
       "    <tr>\n",
       "      <th>539623</th>\n",
       "      <td>2019-08-19 10:08:47</td>\n",
       "      <td>3597337756918966</td>\n",
       "      <td>fraud_Heidenreich PLC</td>\n",
       "      <td>grocery_pos</td>\n",
       "      <td>73.17</td>\n",
       "      <td>Linda</td>\n",
       "      <td>Gonzalez</td>\n",
       "      <td>F</td>\n",
       "      <td>17667 Price Spur Apt. 366</td>\n",
       "      <td>Glen Rock</td>\n",
       "      <td>...</td>\n",
       "      <td>0</td>\n",
       "      <td>0</td>\n",
       "      <td>0</td>\n",
       "      <td>1</td>\n",
       "      <td>0</td>\n",
       "      <td>0</td>\n",
       "      <td>0</td>\n",
       "      <td>0</td>\n",
       "      <td>0</td>\n",
       "      <td>1</td>\n",
       "    </tr>\n",
       "  </tbody>\n",
       "</table>\n",
       "<p>3 rows × 57 columns</p>\n",
       "</div>"
      ],
      "text/plain": [
       "                trans_time            cc_num                merchant  \\\n",
       "76830  2019-02-15 02:48:54   180011453250192  fraud_Volkman-Predovic   \n",
       "140225 2019-03-17 15:01:34      676308307625         fraud_Thiel PLC   \n",
       "539623 2019-08-19 10:08:47  3597337756918966   fraud_Heidenreich PLC   \n",
       "\n",
       "            category     amt   first      last gender  \\\n",
       "76830   shopping_net   97.35   Craig      Dunn      M   \n",
       "140225      misc_pos  160.97  Donald     Evans      M   \n",
       "539623   grocery_pos   73.17   Linda  Gonzalez      F   \n",
       "\n",
       "                           street           city  ... 0-25_dollars  \\\n",
       "76830       721 Jacqueline Brooks     New Boston  ...            0   \n",
       "140225         1287 Michael Roads  Washoe Valley  ...            0   \n",
       "539623  17667 Price Spur Apt. 366      Glen Rock  ...            0   \n",
       "\n",
       "        25-40_dollars  40-50_dollars  50-100_dollars  100-200_dollars  \\\n",
       "76830               0              0               1                0   \n",
       "140225              0              0               0                1   \n",
       "539623              0              0               1                0   \n",
       "\n",
       "       high_dollars 0-20_age 20-40_age  40-60_age  60-96_age  \n",
       "76830             0        0         1          0          0  \n",
       "140225            0        0         1          0          0  \n",
       "539623            0        0         0          0          1  \n",
       "\n",
       "[3 rows x 57 columns]"
      ]
     },
     "execution_count": 30,
     "metadata": {},
     "output_type": "execute_result"
    }
   ],
   "source": [
    "print(train.columns)\n",
    "\n",
    "train.head(3)"
   ]
  },
  {
   "cell_type": "markdown",
   "metadata": {},
   "source": [
    "### Explore"
   ]
  },
  {
   "cell_type": "markdown",
   "metadata": {},
   "source": [
    "#### Engineered Variable Distributions"
   ]
  },
  {
   "cell_type": "code",
   "execution_count": 31,
   "metadata": {},
   "outputs": [
    {
     "data": {
      "image/png": "[encoded data removed]",
      "text/plain": [
       "<Figure size 432x288 with 1 Axes>"
      ]
     },
     "metadata": {
      "needs_background": "light"
     },
     "output_type": "display_data"
    },
    {
     "data": {
      "image/png": "[encoded data removed]",
      "text/plain": [
       "<Figure size 432x288 with 1 Axes>"
      ]
     },
     "metadata": {
      "needs_background": "light"
     },
     "output_type": "display_data"
    },
    {
     "data": {
      "image/png": "[encoded data removed]",
      "text/plain": [
       "<Figure size 432x288 with 1 Axes>"
      ]
     },
     "metadata": {
      "needs_background": "light"
     },
     "output_type": "display_data"
    },
    {
     "data": {
      "image/png": "[encoded data removed]",
      "text/plain": [
       "<Figure size 432x288 with 1 Axes>"
      ]
     },
     "metadata": {
      "needs_background": "light"
     },
     "output_type": "display_data"
    },
    {
     "data": {
      "image/png": "[encoded data removed]",
      "text/plain": [
       "<Figure size 432x288 with 1 Axes>"
      ]
     },
     "metadata": {
      "needs_background": "light"
     },
     "output_type": "display_data"
    },
    {
     "data": {
      "image/png": "[encoded data removed]",
      "text/plain": [
       "<Figure size 432x288 with 1 Axes>"
      ]
     },
     "metadata": {
      "needs_background": "light"
     },
     "output_type": "display_data"
    },
    {
     "data": {
      "image/png": "[encoded data removed]",
      "text/plain": [
       "<Figure size 432x288 with 1 Axes>"
      ]
     },
     "metadata": {
      "needs_background": "light"
     },
     "output_type": "display_data"
    },
    {
     "data": {
      "image/png": "[encoded data removed]",
      "text/plain": [
       "<Figure size 432x288 with 1 Axes>"
      ]
     },
     "metadata": {
      "needs_background": "light"
     },
     "output_type": "display_data"
    },
    {
     "data": {
      "image/png": "[encoded data removed]",
      "text/plain": [
       "<Figure size 432x288 with 1 Axes>"
      ]
     },
     "metadata": {
      "needs_background": "light"
     },
     "output_type": "display_data"
    },
    {
     "data": {
      "image/png": "[encoded data removed]",
      "text/plain": [
       "<Figure size 432x288 with 1 Axes>"
      ]
     },
     "metadata": {
      "needs_background": "light"
     },
     "output_type": "display_data"
    },
    {
     "data": {
      "image/png": "[encoded data removed]",
      "text/plain": [
       "<Figure size 432x288 with 1 Axes>"
      ]
     },
     "metadata": {
      "needs_background": "light"
     },
     "output_type": "display_data"
    },
    {
     "data": {
      "image/png": "[encoded data removed]",
      "text/plain": [
       "<Figure size 432x288 with 1 Axes>"
      ]
     },
     "metadata": {
      "needs_background": "light"
     },
     "output_type": "display_data"
    },
    {
     "data": {
      "image/png": "[encoded data removed]",
      "text/plain": [
       "<Figure size 432x288 with 1 Axes>"
      ]
     },
     "metadata": {
      "needs_background": "light"
     },
     "output_type": "display_data"
    },
    {
     "data": {
      "image/png": "[encoded data removed]",
      "text/plain": [
       "<Figure size 432x288 with 1 Axes>"
      ]
     },
     "metadata": {
      "needs_background": "light"
     },
     "output_type": "display_data"
    },
    {
     "data": {
      "image/png": "[encoded data removed]",
      "text/plain": [
       "<Figure size 432x288 with 1 Axes>"
      ]
     },
     "metadata": {
      "needs_background": "light"
     },
     "output_type": "display_data"
    }
   ],
   "source": [
    "cols = ['entertainment', 'home', 'shopping_net', 'misc_net', \n",
    "        'grocery_net', 'travel', 'is_male', 'is_female',\n",
    "        'Nevada', 'California', 'New_Mexico', 'Florida',\n",
    "        'Texas', 'Virginia', 'Arizona']\n",
    "\n",
    "for col in cols:\n",
    "    plt.hist(df[col])\n",
    "    plt.title(f'Distribution of {col}')\n",
    "    plt.ylabel('Frequency')\n",
    "    plt.xlabel(f'{col}: values')\n",
    "    plt.show()"
   ]
  },
  {
   "cell_type": "markdown",
   "metadata": {},
   "source": [
    "#### Bar Graphs"
   ]
  },
  {
   "cell_type": "code",
   "execution_count": 32,
   "metadata": {},
   "outputs": [
    {
     "data": {
      "image/png": "[encoded data removed]",
      "text/plain": [
       "<Figure size 432x288 with 1 Axes>"
      ]
     },
     "metadata": {
      "needs_background": "light"
     },
     "output_type": "display_data"
    }
   ],
   "source": [
    "df['category'].value_counts().plot.bar()\n",
    "plt.ylabel('Transaciton Frequency')\n",
    "plt.title('Amount of Transactions per Category')\n",
    "plt.show()"
   ]
  },
  {
   "cell_type": "code",
   "execution_count": 33,
   "metadata": {},
   "outputs": [
    {
     "data": {
      "image/png": "[encoded data removed]",
      "text/plain": [
       "<Figure size 1080x1080 with 1 Axes>"
      ]
     },
     "metadata": {
      "needs_background": "light"
     },
     "output_type": "display_data"
    }
   ],
   "source": [
    "plt.figure(figsize = (15,15))\n",
    "df['state'].value_counts().plot.bar()\n",
    "plt.ylabel('Transaciton Frequency')\n",
    "plt.title('Amount of Transactions per State')\n",
    "plt.show()"
   ]
  },
  {
   "cell_type": "code",
   "execution_count": 34,
   "metadata": {},
   "outputs": [
    {
     "data": {
      "image/png": "[encoded data removed]",
      "text/plain": [
       "<Figure size 432x288 with 1 Axes>"
      ]
     },
     "metadata": {
      "needs_background": "light"
     },
     "output_type": "display_data"
    }
   ],
   "source": [
    "df['weekday'].value_counts().plot.bar()\n",
    "plt.ylabel('Transaciton Frequency')\n",
    "plt.title('Amount of Transactions per Weekday')\n",
    "plt.show()"
   ]
  },
  {
   "cell_type": "code",
   "execution_count": 35,
   "metadata": {},
   "outputs": [
    {
     "data": {
      "image/png": "[encoded data removed]",
      "text/plain": [
       "<Figure size 432x288 with 1 Axes>"
      ]
     },
     "metadata": {
      "needs_background": "light"
     },
     "output_type": "display_data"
    }
   ],
   "source": [
    "df['trans_hour'].value_counts().plot.bar()\n",
    "plt.ylabel('Transaciton Frequency')\n",
    "plt.title('Amount of Transactions per Hour')\n",
    "plt.show()"
   ]
  },
  {
   "cell_type": "code",
   "execution_count": 36,
   "metadata": {},
   "outputs": [
    {
     "data": {
      "image/png": "[encoded data removed]",
      "text/plain": [
       "<Figure size 432x288 with 1 Axes>"
      ]
     },
     "metadata": {
      "needs_background": "light"
     },
     "output_type": "display_data"
    }
   ],
   "source": [
    "df['year'].value_counts().plot.bar()\n",
    "plt.ylabel('Transaciton Frequency')\n",
    "plt.title('Amount of Transactions per Year')\n",
    "plt.show()"
   ]
  },
  {
   "cell_type": "code",
   "execution_count": 37,
   "metadata": {},
   "outputs": [
    {
     "data": {
      "image/png": "[encoded data removed]",
      "text/plain": [
       "<Figure size 432x288 with 1 Axes>"
      ]
     },
     "metadata": {
      "needs_background": "light"
     },
     "output_type": "display_data"
    }
   ],
   "source": [
    "df['month'].value_counts().plot.bar()\n",
    "plt.ylabel('Transaciton Frequency')\n",
    "plt.title('Amount of Transactions per Month')\n",
    "plt.show()"
   ]
  },
  {
   "cell_type": "markdown",
   "metadata": {},
   "source": [
    "#### Heatmap with target variable"
   ]
  },
  {
   "cell_type": "code",
   "execution_count": 78,
   "metadata": {},
   "outputs": [
    {
     "data": {
      "image/png": "[encoded data removed]",
      "text/plain": [
       "<Figure size 1080x720 with 2 Axes>"
      ]
     },
     "metadata": {
      "needs_background": "light"
     },
     "output_type": "display_data"
    }
   ],
   "source": [
    "## making a heap map to look at correlations with is_fraud for the train data set\n",
    "## helping me choose which features to use in my model\n",
    "\n",
    "plt.figure(figsize = (15,10))  \n",
    "sns.heatmap(train.corr()[['is_fraud']].sort_values(by='is_fraud', ascending = False), \n",
    "            cmap = 'RdBu', vmax = 1, vmin = -1, center = 0, annot = True, annot_kws={\"size\": 15} )\n",
    "plt.show()                    "
   ]
  },
  {
   "cell_type": "markdown",
   "metadata": {},
   "source": [
    "#### Crosstabs Looking for Fraud"
   ]
  },
  {
   "cell_type": "code",
   "execution_count": 39,
   "metadata": {},
   "outputs": [
    {
     "data": {
      "text/html": [
       "<div>\n",
       "<style scoped>\n",
       "    .dataframe tbody tr th:only-of-type {\n",
       "        vertical-align: middle;\n",
       "    }\n",
       "\n",
       "    .dataframe tbody tr th {\n",
       "        vertical-align: top;\n",
       "    }\n",
       "\n",
       "    .dataframe thead th {\n",
       "        text-align: right;\n",
       "    }\n",
       "</style>\n",
       "<table border=\"1\" class=\"dataframe\">\n",
       "  <thead>\n",
       "    <tr style=\"text-align: right;\">\n",
       "      <th>is_fraud</th>\n",
       "      <th>0</th>\n",
       "      <th>1</th>\n",
       "    </tr>\n",
       "    <tr>\n",
       "      <th>weekday</th>\n",
       "      <th></th>\n",
       "      <th></th>\n",
       "    </tr>\n",
       "  </thead>\n",
       "  <tbody>\n",
       "    <tr>\n",
       "      <th>5</th>\n",
       "      <td>199730</td>\n",
       "      <td>1227</td>\n",
       "    </tr>\n",
       "    <tr>\n",
       "      <th>6</th>\n",
       "      <td>249363</td>\n",
       "      <td>1216</td>\n",
       "    </tr>\n",
       "    <tr>\n",
       "      <th>0</th>\n",
       "      <td>253100</td>\n",
       "      <td>1182</td>\n",
       "    </tr>\n",
       "    <tr>\n",
       "      <th>4</th>\n",
       "      <td>151193</td>\n",
       "      <td>1079</td>\n",
       "    </tr>\n",
       "    <tr>\n",
       "      <th>3</th>\n",
       "      <td>146277</td>\n",
       "      <td>1008</td>\n",
       "    </tr>\n",
       "  </tbody>\n",
       "</table>\n",
       "</div>"
      ],
      "text/plain": [
       "is_fraud       0     1\n",
       "weekday               \n",
       "5         199730  1227\n",
       "6         249363  1216\n",
       "0         253100  1182\n",
       "4         151193  1079\n",
       "3         146277  1008"
      ]
     },
     "execution_count": 39,
     "metadata": {},
     "output_type": "execute_result"
    }
   ],
   "source": [
    "ctab = pd.crosstab(df.weekday, df.is_fraud)\n",
    "ctab = ctab.sort_values(by = 1, ascending = False)\n",
    "ctab.head(5)"
   ]
  },
  {
   "cell_type": "markdown",
   "metadata": {},
   "source": [
    "Friday and Saturdays have the highest amounts of Fraud"
   ]
  },
  {
   "cell_type": "code",
   "execution_count": 40,
   "metadata": {},
   "outputs": [
    {
     "data": {
      "text/html": [
       "<div>\n",
       "<style scoped>\n",
       "    .dataframe tbody tr th:only-of-type {\n",
       "        vertical-align: middle;\n",
       "    }\n",
       "\n",
       "    .dataframe tbody tr th {\n",
       "        vertical-align: top;\n",
       "    }\n",
       "\n",
       "    .dataframe thead th {\n",
       "        text-align: right;\n",
       "    }\n",
       "</style>\n",
       "<table border=\"1\" class=\"dataframe\">\n",
       "  <thead>\n",
       "    <tr style=\"text-align: right;\">\n",
       "      <th>is_fraud</th>\n",
       "      <th>0</th>\n",
       "      <th>1</th>\n",
       "    </tr>\n",
       "    <tr>\n",
       "      <th>month</th>\n",
       "      <th></th>\n",
       "      <th></th>\n",
       "    </tr>\n",
       "  </thead>\n",
       "  <tbody>\n",
       "    <tr>\n",
       "      <th>3</th>\n",
       "      <td>142851</td>\n",
       "      <td>938</td>\n",
       "    </tr>\n",
       "    <tr>\n",
       "      <th>5</th>\n",
       "      <td>145940</td>\n",
       "      <td>935</td>\n",
       "    </tr>\n",
       "    <tr>\n",
       "      <th>2</th>\n",
       "      <td>96804</td>\n",
       "      <td>853</td>\n",
       "    </tr>\n",
       "    <tr>\n",
       "      <th>1</th>\n",
       "      <td>103878</td>\n",
       "      <td>849</td>\n",
       "    </tr>\n",
       "    <tr>\n",
       "      <th>6</th>\n",
       "      <td>143123</td>\n",
       "      <td>688</td>\n",
       "    </tr>\n",
       "  </tbody>\n",
       "</table>\n",
       "</div>"
      ],
      "text/plain": [
       "is_fraud       0    1\n",
       "month                \n",
       "3         142851  938\n",
       "5         145940  935\n",
       "2          96804  853\n",
       "1         103878  849\n",
       "6         143123  688"
      ]
     },
     "execution_count": 40,
     "metadata": {},
     "output_type": "execute_result"
    }
   ],
   "source": [
    "ctab = pd.crosstab(df.month, df.is_fraud)\n",
    "ctab = ctab.sort_values(by = 1, ascending = False)\n",
    "ctab.head(5)"
   ]
  },
  {
   "cell_type": "markdown",
   "metadata": {},
   "source": [
    "March and May have the highest amount of Fraud"
   ]
  },
  {
   "cell_type": "code",
   "execution_count": 41,
   "metadata": {},
   "outputs": [
    {
     "data": {
      "text/html": [
       "<div>\n",
       "<style scoped>\n",
       "    .dataframe tbody tr th:only-of-type {\n",
       "        vertical-align: middle;\n",
       "    }\n",
       "\n",
       "    .dataframe tbody tr th {\n",
       "        vertical-align: top;\n",
       "    }\n",
       "\n",
       "    .dataframe thead th {\n",
       "        text-align: right;\n",
       "    }\n",
       "</style>\n",
       "<table border=\"1\" class=\"dataframe\">\n",
       "  <thead>\n",
       "    <tr style=\"text-align: right;\">\n",
       "      <th>is_fraud</th>\n",
       "      <th>0</th>\n",
       "      <th>1</th>\n",
       "    </tr>\n",
       "    <tr>\n",
       "      <th>trans_hour</th>\n",
       "      <th></th>\n",
       "      <th></th>\n",
       "    </tr>\n",
       "  </thead>\n",
       "  <tbody>\n",
       "    <tr>\n",
       "      <th>22</th>\n",
       "      <td>65051</td>\n",
       "      <td>1931</td>\n",
       "    </tr>\n",
       "    <tr>\n",
       "      <th>23</th>\n",
       "      <td>65200</td>\n",
       "      <td>1904</td>\n",
       "    </tr>\n",
       "    <tr>\n",
       "      <th>1</th>\n",
       "      <td>42211</td>\n",
       "      <td>658</td>\n",
       "    </tr>\n",
       "    <tr>\n",
       "      <th>0</th>\n",
       "      <td>41867</td>\n",
       "      <td>635</td>\n",
       "    </tr>\n",
       "    <tr>\n",
       "      <th>2</th>\n",
       "      <td>42031</td>\n",
       "      <td>625</td>\n",
       "    </tr>\n",
       "  </tbody>\n",
       "</table>\n",
       "</div>"
      ],
      "text/plain": [
       "is_fraud        0     1\n",
       "trans_hour             \n",
       "22          65051  1931\n",
       "23          65200  1904\n",
       "1           42211   658\n",
       "0           41867   635\n",
       "2           42031   625"
      ]
     },
     "execution_count": 41,
     "metadata": {},
     "output_type": "execute_result"
    }
   ],
   "source": [
    "ctab = pd.crosstab(df.trans_hour, df.is_fraud)\n",
    "ctab = ctab.sort_values(by = 1, ascending = False)\n",
    "ctab.head(5)"
   ]
  },
  {
   "cell_type": "markdown",
   "metadata": {},
   "source": [
    "12 AM and 11 PM transactions have a very high amount of fraud transactions compared to the others times of day"
   ]
  },
  {
   "cell_type": "code",
   "execution_count": 42,
   "metadata": {},
   "outputs": [
    {
     "data": {
      "text/html": [
       "<div>\n",
       "<style scoped>\n",
       "    .dataframe tbody tr th:only-of-type {\n",
       "        vertical-align: middle;\n",
       "    }\n",
       "\n",
       "    .dataframe tbody tr th {\n",
       "        vertical-align: top;\n",
       "    }\n",
       "\n",
       "    .dataframe thead th {\n",
       "        text-align: right;\n",
       "    }\n",
       "</style>\n",
       "<table border=\"1\" class=\"dataframe\">\n",
       "  <thead>\n",
       "    <tr style=\"text-align: right;\">\n",
       "      <th>is_fraud</th>\n",
       "      <th>0</th>\n",
       "      <th>1</th>\n",
       "    </tr>\n",
       "    <tr>\n",
       "      <th>category</th>\n",
       "      <th></th>\n",
       "      <th></th>\n",
       "    </tr>\n",
       "  </thead>\n",
       "  <tbody>\n",
       "    <tr>\n",
       "      <th>grocery_pos</th>\n",
       "      <td>121895</td>\n",
       "      <td>1743</td>\n",
       "    </tr>\n",
       "    <tr>\n",
       "      <th>shopping_net</th>\n",
       "      <td>95830</td>\n",
       "      <td>1713</td>\n",
       "    </tr>\n",
       "    <tr>\n",
       "      <th>misc_net</th>\n",
       "      <td>62372</td>\n",
       "      <td>915</td>\n",
       "    </tr>\n",
       "    <tr>\n",
       "      <th>shopping_pos</th>\n",
       "      <td>115829</td>\n",
       "      <td>843</td>\n",
       "    </tr>\n",
       "    <tr>\n",
       "      <th>gas_transport</th>\n",
       "      <td>131041</td>\n",
       "      <td>618</td>\n",
       "    </tr>\n",
       "  </tbody>\n",
       "</table>\n",
       "</div>"
      ],
      "text/plain": [
       "is_fraud            0     1\n",
       "category                   \n",
       "grocery_pos    121895  1743\n",
       "shopping_net    95830  1713\n",
       "misc_net        62372   915\n",
       "shopping_pos   115829   843\n",
       "gas_transport  131041   618"
      ]
     },
     "execution_count": 42,
     "metadata": {},
     "output_type": "execute_result"
    }
   ],
   "source": [
    "ctab = pd.crosstab(df.category, df.is_fraud)\n",
    "ctab = ctab.sort_values(by = 1, ascending = False)\n",
    "ctab.head(5)"
   ]
  },
  {
   "cell_type": "markdown",
   "metadata": {},
   "source": [
    "grocery_pos and shopping_net have high amounts of fraud transactions compared to other categories"
   ]
  },
  {
   "cell_type": "code",
   "execution_count": 43,
   "metadata": {},
   "outputs": [
    {
     "data": {
      "text/html": [
       "<div>\n",
       "<style scoped>\n",
       "    .dataframe tbody tr th:only-of-type {\n",
       "        vertical-align: middle;\n",
       "    }\n",
       "\n",
       "    .dataframe tbody tr th {\n",
       "        vertical-align: top;\n",
       "    }\n",
       "\n",
       "    .dataframe thead th {\n",
       "        text-align: right;\n",
       "    }\n",
       "</style>\n",
       "<table border=\"1\" class=\"dataframe\">\n",
       "  <thead>\n",
       "    <tr style=\"text-align: right;\">\n",
       "      <th>is_fraud</th>\n",
       "      <th>0</th>\n",
       "      <th>1</th>\n",
       "    </tr>\n",
       "    <tr>\n",
       "      <th>state</th>\n",
       "      <th></th>\n",
       "      <th></th>\n",
       "    </tr>\n",
       "  </thead>\n",
       "  <tbody>\n",
       "    <tr>\n",
       "      <th>NY</th>\n",
       "      <td>82946</td>\n",
       "      <td>555</td>\n",
       "    </tr>\n",
       "    <tr>\n",
       "      <th>TX</th>\n",
       "      <td>94397</td>\n",
       "      <td>479</td>\n",
       "    </tr>\n",
       "    <tr>\n",
       "      <th>PA</th>\n",
       "      <td>79389</td>\n",
       "      <td>458</td>\n",
       "    </tr>\n",
       "    <tr>\n",
       "      <th>CA</th>\n",
       "      <td>56034</td>\n",
       "      <td>326</td>\n",
       "    </tr>\n",
       "    <tr>\n",
       "      <th>OH</th>\n",
       "      <td>46159</td>\n",
       "      <td>321</td>\n",
       "    </tr>\n",
       "  </tbody>\n",
       "</table>\n",
       "</div>"
      ],
      "text/plain": [
       "is_fraud      0    1\n",
       "state               \n",
       "NY        82946  555\n",
       "TX        94397  479\n",
       "PA        79389  458\n",
       "CA        56034  326\n",
       "OH        46159  321"
      ]
     },
     "execution_count": 43,
     "metadata": {},
     "output_type": "execute_result"
    }
   ],
   "source": [
    "ctab = pd.crosstab(df.state, df.is_fraud)\n",
    "ctab = ctab.sort_values(by = 1, ascending = False)\n",
    "ctab.head(5)"
   ]
  },
  {
   "cell_type": "markdown",
   "metadata": {},
   "source": [
    "New York and Texas have the highest amount of fraud transactions compared to other states"
   ]
  },
  {
   "cell_type": "code",
   "execution_count": 44,
   "metadata": {},
   "outputs": [
    {
     "data": {
      "text/html": [
       "<div>\n",
       "<style scoped>\n",
       "    .dataframe tbody tr th:only-of-type {\n",
       "        vertical-align: middle;\n",
       "    }\n",
       "\n",
       "    .dataframe tbody tr th {\n",
       "        vertical-align: top;\n",
       "    }\n",
       "\n",
       "    .dataframe thead th {\n",
       "        text-align: right;\n",
       "    }\n",
       "</style>\n",
       "<table border=\"1\" class=\"dataframe\">\n",
       "  <thead>\n",
       "    <tr style=\"text-align: right;\">\n",
       "      <th>is_fraud</th>\n",
       "      <th>0</th>\n",
       "      <th>1</th>\n",
       "    </tr>\n",
       "    <tr>\n",
       "      <th>city</th>\n",
       "      <th></th>\n",
       "      <th></th>\n",
       "    </tr>\n",
       "  </thead>\n",
       "  <tbody>\n",
       "    <tr>\n",
       "      <th>Houston</th>\n",
       "      <td>4129</td>\n",
       "      <td>39</td>\n",
       "    </tr>\n",
       "    <tr>\n",
       "      <th>Warren</th>\n",
       "      <td>4566</td>\n",
       "      <td>33</td>\n",
       "    </tr>\n",
       "    <tr>\n",
       "      <th>Naples</th>\n",
       "      <td>4126</td>\n",
       "      <td>29</td>\n",
       "    </tr>\n",
       "    <tr>\n",
       "      <th>Huntsville</th>\n",
       "      <td>3531</td>\n",
       "      <td>29</td>\n",
       "    </tr>\n",
       "    <tr>\n",
       "      <th>Topeka</th>\n",
       "      <td>3001</td>\n",
       "      <td>27</td>\n",
       "    </tr>\n",
       "  </tbody>\n",
       "</table>\n",
       "</div>"
      ],
      "text/plain": [
       "is_fraud       0   1\n",
       "city                \n",
       "Houston     4129  39\n",
       "Warren      4566  33\n",
       "Naples      4126  29\n",
       "Huntsville  3531  29\n",
       "Topeka      3001  27"
      ]
     },
     "execution_count": 44,
     "metadata": {},
     "output_type": "execute_result"
    }
   ],
   "source": [
    "ctab = pd.crosstab(df.city, df.is_fraud)\n",
    "ctab = ctab.sort_values(by = 1, ascending = False)\n",
    "ctab.head(5)"
   ]
  },
  {
   "cell_type": "markdown",
   "metadata": {},
   "source": [
    "Houston and Warren have the highest amount of fraud transactions out of all the cities"
   ]
  },
  {
   "cell_type": "code",
   "execution_count": 45,
   "metadata": {},
   "outputs": [
    {
     "data": {
      "text/html": [
       "<div>\n",
       "<style scoped>\n",
       "    .dataframe tbody tr th:only-of-type {\n",
       "        vertical-align: middle;\n",
       "    }\n",
       "\n",
       "    .dataframe tbody tr th {\n",
       "        vertical-align: top;\n",
       "    }\n",
       "\n",
       "    .dataframe thead th {\n",
       "        text-align: right;\n",
       "    }\n",
       "</style>\n",
       "<table border=\"1\" class=\"dataframe\">\n",
       "  <thead>\n",
       "    <tr style=\"text-align: right;\">\n",
       "      <th>is_fraud</th>\n",
       "      <th>0</th>\n",
       "      <th>1</th>\n",
       "    </tr>\n",
       "    <tr>\n",
       "      <th>job</th>\n",
       "      <th></th>\n",
       "      <th></th>\n",
       "    </tr>\n",
       "  </thead>\n",
       "  <tbody>\n",
       "    <tr>\n",
       "      <th>Materials engineer</th>\n",
       "      <td>8208</td>\n",
       "      <td>62</td>\n",
       "    </tr>\n",
       "    <tr>\n",
       "      <th>Trading standards officer</th>\n",
       "      <td>4585</td>\n",
       "      <td>56</td>\n",
       "    </tr>\n",
       "    <tr>\n",
       "      <th>Naval architect</th>\n",
       "      <td>8631</td>\n",
       "      <td>53</td>\n",
       "    </tr>\n",
       "    <tr>\n",
       "      <th>Exhibition designer</th>\n",
       "      <td>9148</td>\n",
       "      <td>51</td>\n",
       "    </tr>\n",
       "    <tr>\n",
       "      <th>Surveyor, land/geomatics</th>\n",
       "      <td>8630</td>\n",
       "      <td>50</td>\n",
       "    </tr>\n",
       "  </tbody>\n",
       "</table>\n",
       "</div>"
      ],
      "text/plain": [
       "is_fraud                      0   1\n",
       "job                                \n",
       "Materials engineer         8208  62\n",
       "Trading standards officer  4585  56\n",
       "Naval architect            8631  53\n",
       "Exhibition designer        9148  51\n",
       "Surveyor, land/geomatics   8630  50"
      ]
     },
     "execution_count": 45,
     "metadata": {},
     "output_type": "execute_result"
    }
   ],
   "source": [
    "ctab = pd.crosstab(df.job, df.is_fraud)\n",
    "ctab = ctab.sort_values(by = 1, ascending = False)\n",
    "ctab.head(5)"
   ]
  },
  {
   "cell_type": "markdown",
   "metadata": {},
   "source": [
    "Materials engineer and Trading standards officers are victims of fraud the most frequently"
   ]
  },
  {
   "cell_type": "code",
   "execution_count": 46,
   "metadata": {},
   "outputs": [
    {
     "data": {
      "text/html": [
       "<div>\n",
       "<style scoped>\n",
       "    .dataframe tbody tr th:only-of-type {\n",
       "        vertical-align: middle;\n",
       "    }\n",
       "\n",
       "    .dataframe tbody tr th {\n",
       "        vertical-align: top;\n",
       "    }\n",
       "\n",
       "    .dataframe thead th {\n",
       "        text-align: right;\n",
       "    }\n",
       "</style>\n",
       "<table border=\"1\" class=\"dataframe\">\n",
       "  <thead>\n",
       "    <tr style=\"text-align: right;\">\n",
       "      <th>is_fraud</th>\n",
       "      <th>0</th>\n",
       "      <th>1</th>\n",
       "    </tr>\n",
       "    <tr>\n",
       "      <th>merchant</th>\n",
       "      <th></th>\n",
       "      <th></th>\n",
       "    </tr>\n",
       "  </thead>\n",
       "  <tbody>\n",
       "    <tr>\n",
       "      <th>fraud_Rau and Sons</th>\n",
       "      <td>2441</td>\n",
       "      <td>49</td>\n",
       "    </tr>\n",
       "    <tr>\n",
       "      <th>fraud_Kozey-Boehm</th>\n",
       "      <td>1818</td>\n",
       "      <td>48</td>\n",
       "    </tr>\n",
       "    <tr>\n",
       "      <th>fraud_Cormier LLC</th>\n",
       "      <td>3601</td>\n",
       "      <td>48</td>\n",
       "    </tr>\n",
       "    <tr>\n",
       "      <th>fraud_Vandervort-Funk</th>\n",
       "      <td>2427</td>\n",
       "      <td>47</td>\n",
       "    </tr>\n",
       "    <tr>\n",
       "      <th>fraud_Doyle Ltd</th>\n",
       "      <td>2511</td>\n",
       "      <td>47</td>\n",
       "    </tr>\n",
       "    <tr>\n",
       "      <th>fraud_Kilback LLC</th>\n",
       "      <td>4356</td>\n",
       "      <td>47</td>\n",
       "    </tr>\n",
       "    <tr>\n",
       "      <th>fraud_Kuhn LLC</th>\n",
       "      <td>3466</td>\n",
       "      <td>44</td>\n",
       "    </tr>\n",
       "    <tr>\n",
       "      <th>fraud_Padberg-Welch</th>\n",
       "      <td>2380</td>\n",
       "      <td>44</td>\n",
       "    </tr>\n",
       "  </tbody>\n",
       "</table>\n",
       "</div>"
      ],
      "text/plain": [
       "is_fraud                  0   1\n",
       "merchant                       \n",
       "fraud_Rau and Sons     2441  49\n",
       "fraud_Kozey-Boehm      1818  48\n",
       "fraud_Cormier LLC      3601  48\n",
       "fraud_Vandervort-Funk  2427  47\n",
       "fraud_Doyle Ltd        2511  47\n",
       "fraud_Kilback LLC      4356  47\n",
       "fraud_Kuhn LLC         3466  44\n",
       "fraud_Padberg-Welch    2380  44"
      ]
     },
     "execution_count": 46,
     "metadata": {},
     "output_type": "execute_result"
    }
   ],
   "source": [
    "ctab = pd.crosstab(df.merchant, df.is_fraud)\n",
    "ctab = ctab.sort_values(by = 1, ascending = False)\n",
    "ctab.head(8)"
   ]
  },
  {
   "cell_type": "markdown",
   "metadata": {},
   "source": [
    "There isn't much variance in the merchant column and the amount of fraud transactions, however, Rau and Sons and Kozey_Boehm have the most fraud transactions"
   ]
  },
  {
   "cell_type": "markdown",
   "metadata": {},
   "source": [
    "### Explore: Statistical Testing"
   ]
  },
  {
   "cell_type": "markdown",
   "metadata": {},
   "source": [
    "#### Chi Square Testing"
   ]
  },
  {
   "cell_type": "code",
   "execution_count": 47,
   "metadata": {},
   "outputs": [],
   "source": [
    "## Universally our alpha value for all testing \n",
    "\n",
    "alpha = 0.05"
   ]
  },
  {
   "cell_type": "markdown",
   "metadata": {},
   "source": [
    "##### Online Shopping vs Fraud"
   ]
  },
  {
   "cell_type": "markdown",
   "metadata": {},
   "source": [
    "Question: Is there a significant relationship between the two categorical variables: online shopping (shopping_net column) and the target variable is_fraud\n",
    "\n",
    " - $H_0$: There is no relationship between a cc transaction being used for online shopping and whether the transaction was fraud\n",
    "\n",
    " - $H_a$: There is a significant relationship between a cc transaction being used for online shopping and whether the transaction was fraud"
   ]
  },
  {
   "cell_type": "code",
   "execution_count": 48,
   "metadata": {},
   "outputs": [
    {
     "data": {
      "text/html": [
       "<div>\n",
       "<style scoped>\n",
       "    .dataframe tbody tr th:only-of-type {\n",
       "        vertical-align: middle;\n",
       "    }\n",
       "\n",
       "    .dataframe tbody tr th {\n",
       "        vertical-align: top;\n",
       "    }\n",
       "\n",
       "    .dataframe thead th {\n",
       "        text-align: right;\n",
       "    }\n",
       "</style>\n",
       "<table border=\"1\" class=\"dataframe\">\n",
       "  <thead>\n",
       "    <tr style=\"text-align: right;\">\n",
       "      <th>is_fraud</th>\n",
       "      <th>0</th>\n",
       "      <th>1</th>\n",
       "    </tr>\n",
       "    <tr>\n",
       "      <th>shopping_net</th>\n",
       "      <th></th>\n",
       "      <th></th>\n",
       "    </tr>\n",
       "  </thead>\n",
       "  <tbody>\n",
       "    <tr>\n",
       "      <th>0</th>\n",
       "      <td>1193339</td>\n",
       "      <td>5793</td>\n",
       "    </tr>\n",
       "    <tr>\n",
       "      <th>1</th>\n",
       "      <td>95830</td>\n",
       "      <td>1713</td>\n",
       "    </tr>\n",
       "  </tbody>\n",
       "</table>\n",
       "</div>"
      ],
      "text/plain": [
       "is_fraud            0     1\n",
       "shopping_net               \n",
       "0             1193339  5793\n",
       "1               95830  1713"
      ]
     },
     "execution_count": 48,
     "metadata": {},
     "output_type": "execute_result"
    }
   ],
   "source": [
    "## creating our observed crosstab of the two categories\n",
    "\n",
    "observed = pd.crosstab(df.shopping_net, df.is_fraud) \n",
    "observed"
   ]
  },
  {
   "cell_type": "code",
   "execution_count": 49,
   "metadata": {},
   "outputs": [
    {
     "name": "stdout",
     "output_type": "stream",
     "text": [
      "Observed\n",
      "\n",
      "[[1193339    5793]\n",
      " [  95830    1713]]\n",
      "---\n",
      "Expected\n",
      "\n",
      "[[1.19219064e+06 6.94135754e+03]\n",
      " [9.69783575e+04 5.64642457e+02]]\n",
      "---\n",
      "\n",
      "chi^2 = 2537.9782\n",
      "p     = 0.0000\n"
     ]
    }
   ],
   "source": [
    "chi2, p, degf, expected = stats.chi2_contingency(observed)\n",
    "\n",
    "print('Observed\\n')\n",
    "print(observed.values)\n",
    "print('---\\nExpected\\n')\n",
    "print(expected)\n",
    "print('---\\n')\n",
    "print(f'chi^2 = {chi2:.4f}')\n",
    "print(f'p     = {p:.4f}')"
   ]
  },
  {
   "cell_type": "markdown",
   "metadata": {},
   "source": [
    "Since the p-value returned is less than our alpha and near 0 we can determine there is a significnat relationship between a cc transaction being used for online shopping and whether the transaction was fraud."
   ]
  },
  {
   "cell_type": "markdown",
   "metadata": {},
   "source": [
    "##### Expensive Transactions vs Fraud"
   ]
  },
  {
   "cell_type": "markdown",
   "metadata": {},
   "source": [
    "Question: Is there a significant relationship between the two categorical variables: expensive transactions (high_dollars column) and the target variable is_fraud\n",
    "\n",
    " - $H_0$: There is no relationship between a cc transaction being expensive and whether the transaction was fraud\n",
    "\n",
    " - $H_a$: There is a significant relationship between a cc transaction being expensive and whether the transaction was fraud"
   ]
  },
  {
   "cell_type": "code",
   "execution_count": 50,
   "metadata": {},
   "outputs": [
    {
     "data": {
      "text/html": [
       "<div>\n",
       "<style scoped>\n",
       "    .dataframe tbody tr th:only-of-type {\n",
       "        vertical-align: middle;\n",
       "    }\n",
       "\n",
       "    .dataframe tbody tr th {\n",
       "        vertical-align: top;\n",
       "    }\n",
       "\n",
       "    .dataframe thead th {\n",
       "        text-align: right;\n",
       "    }\n",
       "</style>\n",
       "<table border=\"1\" class=\"dataframe\">\n",
       "  <thead>\n",
       "    <tr style=\"text-align: right;\">\n",
       "      <th>is_fraud</th>\n",
       "      <th>0</th>\n",
       "      <th>1</th>\n",
       "    </tr>\n",
       "    <tr>\n",
       "      <th>high_dollars</th>\n",
       "      <th></th>\n",
       "      <th></th>\n",
       "    </tr>\n",
       "  </thead>\n",
       "  <tbody>\n",
       "    <tr>\n",
       "      <th>0</th>\n",
       "      <td>1232949</td>\n",
       "      <td>1802</td>\n",
       "    </tr>\n",
       "    <tr>\n",
       "      <th>1</th>\n",
       "      <td>56220</td>\n",
       "      <td>5704</td>\n",
       "    </tr>\n",
       "  </tbody>\n",
       "</table>\n",
       "</div>"
      ],
      "text/plain": [
       "is_fraud            0     1\n",
       "high_dollars               \n",
       "0             1232949  1802\n",
       "1               56220  5704"
      ]
     },
     "execution_count": 50,
     "metadata": {},
     "output_type": "execute_result"
    }
   ],
   "source": [
    "## creating our observed crosstab of the two categories\n",
    "\n",
    "observed = pd.crosstab(df.high_dollars, df.is_fraud) \n",
    "observed"
   ]
  },
  {
   "cell_type": "code",
   "execution_count": 51,
   "metadata": {},
   "outputs": [
    {
     "name": "stdout",
     "output_type": "stream",
     "text": [
      "Observed\n",
      "\n",
      "[[1232949    1802]\n",
      " [  56220    5704]]\n",
      "---\n",
      "Expected\n",
      "\n",
      "[[1.22760346e+06 7.14754353e+03]\n",
      " [6.15655435e+04 3.58456471e+02]]\n",
      "---\n",
      "\n",
      "chi^2 = 84185.8505\n",
      "p     = 0.0000\n"
     ]
    }
   ],
   "source": [
    "chi2, p, degf, expected = stats.chi2_contingency(observed)\n",
    "\n",
    "print('Observed\\n')\n",
    "print(observed.values)\n",
    "print('---\\nExpected\\n')\n",
    "print(expected)\n",
    "print('---\\n')\n",
    "print(f'chi^2 = {chi2:.4f}')\n",
    "print(f'p     = {p:.4f}')"
   ]
  },
  {
   "cell_type": "markdown",
   "metadata": {},
   "source": [
    "Since the p-value returned is less than our alpha and near 0 we can determine there is a significnat relationship a cc transaction being expensive and whether the transaction was fraud."
   ]
  },
  {
   "cell_type": "markdown",
   "metadata": {},
   "source": [
    "##### Late at Night vs Fraud"
   ]
  },
  {
   "cell_type": "markdown",
   "metadata": {},
   "source": [
    "Question: Is there a significant relationship between the two categorical variables: if the transaction was late at night (late_night column 10PM or 11PM) and the target variable is_fraud\n",
    "\n",
    " - $H_0$: There is no relationship between a cc transaction being late at night and whether the transaction was fraud\n",
    "\n",
    " - $H_a$: There is a significant relationship between a cc transaction being late at night and whether the transaction was fraud"
   ]
  },
  {
   "cell_type": "code",
   "execution_count": 52,
   "metadata": {},
   "outputs": [
    {
     "data": {
      "text/html": [
       "<div>\n",
       "<style scoped>\n",
       "    .dataframe tbody tr th:only-of-type {\n",
       "        vertical-align: middle;\n",
       "    }\n",
       "\n",
       "    .dataframe tbody tr th {\n",
       "        vertical-align: top;\n",
       "    }\n",
       "\n",
       "    .dataframe thead th {\n",
       "        text-align: right;\n",
       "    }\n",
       "</style>\n",
       "<table border=\"1\" class=\"dataframe\">\n",
       "  <thead>\n",
       "    <tr style=\"text-align: right;\">\n",
       "      <th>is_fraud</th>\n",
       "      <th>0</th>\n",
       "      <th>1</th>\n",
       "    </tr>\n",
       "    <tr>\n",
       "      <th>late_night</th>\n",
       "      <th></th>\n",
       "      <th></th>\n",
       "    </tr>\n",
       "  </thead>\n",
       "  <tbody>\n",
       "    <tr>\n",
       "      <th>0</th>\n",
       "      <td>1158918</td>\n",
       "      <td>3671</td>\n",
       "    </tr>\n",
       "    <tr>\n",
       "      <th>1</th>\n",
       "      <td>130251</td>\n",
       "      <td>3835</td>\n",
       "    </tr>\n",
       "  </tbody>\n",
       "</table>\n",
       "</div>"
      ],
      "text/plain": [
       "is_fraud          0     1\n",
       "late_night               \n",
       "0           1158918  3671\n",
       "1            130251  3835"
      ]
     },
     "execution_count": 52,
     "metadata": {},
     "output_type": "execute_result"
    }
   ],
   "source": [
    "## creating our observed crosstab of the two categories\n",
    "\n",
    "observed = pd.crosstab(df.late_night, df.is_fraud) \n",
    "observed"
   ]
  },
  {
   "cell_type": "code",
   "execution_count": 53,
   "metadata": {},
   "outputs": [
    {
     "name": "stdout",
     "output_type": "stream",
     "text": [
      "Observed\n",
      "\n",
      "[[1158918    3671]\n",
      " [ 130251    3835]]\n",
      "---\n",
      "Expected\n",
      "\n",
      "[[1.15585918e+06 6.72982284e+03]\n",
      " [1.33309823e+05 7.76177158e+02]]\n",
      "---\n",
      "\n",
      "chi^2 = 13518.6091\n",
      "p     = 0.0000\n"
     ]
    }
   ],
   "source": [
    "chi2, p, degf, expected = stats.chi2_contingency(observed)\n",
    "\n",
    "print('Observed\\n')\n",
    "print(observed.values)\n",
    "print('---\\nExpected\\n')\n",
    "print(expected)\n",
    "print('---\\n')\n",
    "print(f'chi^2 = {chi2:.4f}')\n",
    "print(f'p     = {p:.4f}')"
   ]
  },
  {
   "cell_type": "markdown",
   "metadata": {},
   "source": [
    "Since the p-value returned is less than our alpha and near 0 we can determine there is a significnat relationship a cc transaction being late at night and whether the transaction was fraud."
   ]
  },
  {
   "cell_type": "markdown",
   "metadata": {},
   "source": [
    "##### High Fraud Transaction Category vs Fraud"
   ]
  },
  {
   "cell_type": "markdown",
   "metadata": {},
   "source": [
    "Question: Is there a significant relationship between the two categorical variables: if the transaction was in the high fraud category (high_fraud_cat column online shopping and grocery point of sale transactions) and the target variable is_fraud\n",
    "\n",
    " - $H_0$: There is no relationship between a cc transaction being in the high fraud category and whether the transaction was fraud\n",
    "\n",
    " - $H_a$: There is a significant relationship between a cc transaction being in the high fraud category and whether the transaction was fraud"
   ]
  },
  {
   "cell_type": "code",
   "execution_count": 54,
   "metadata": {},
   "outputs": [
    {
     "data": {
      "text/html": [
       "<div>\n",
       "<style scoped>\n",
       "    .dataframe tbody tr th:only-of-type {\n",
       "        vertical-align: middle;\n",
       "    }\n",
       "\n",
       "    .dataframe tbody tr th {\n",
       "        vertical-align: top;\n",
       "    }\n",
       "\n",
       "    .dataframe thead th {\n",
       "        text-align: right;\n",
       "    }\n",
       "</style>\n",
       "<table border=\"1\" class=\"dataframe\">\n",
       "  <thead>\n",
       "    <tr style=\"text-align: right;\">\n",
       "      <th>is_fraud</th>\n",
       "      <th>0</th>\n",
       "      <th>1</th>\n",
       "    </tr>\n",
       "    <tr>\n",
       "      <th>high_fraud_cat</th>\n",
       "      <th></th>\n",
       "      <th></th>\n",
       "    </tr>\n",
       "  </thead>\n",
       "  <tbody>\n",
       "    <tr>\n",
       "      <th>0</th>\n",
       "      <td>1071444</td>\n",
       "      <td>4050</td>\n",
       "    </tr>\n",
       "    <tr>\n",
       "      <th>1</th>\n",
       "      <td>217725</td>\n",
       "      <td>3456</td>\n",
       "    </tr>\n",
       "  </tbody>\n",
       "</table>\n",
       "</div>"
      ],
      "text/plain": [
       "is_fraud              0     1\n",
       "high_fraud_cat               \n",
       "0               1071444  4050\n",
       "1                217725  3456"
      ]
     },
     "execution_count": 54,
     "metadata": {},
     "output_type": "execute_result"
    }
   ],
   "source": [
    "## creating our observed crosstab of the two categories\n",
    "\n",
    "observed = pd.crosstab(df.high_fraud_cat, df.is_fraud) \n",
    "observed"
   ]
  },
  {
   "cell_type": "code",
   "execution_count": 55,
   "metadata": {},
   "outputs": [
    {
     "name": "stdout",
     "output_type": "stream",
     "text": [
      "Observed\n",
      "\n",
      "[[1071444    4050]\n",
      " [ 217725    3456]]\n",
      "---\n",
      "Expected\n",
      "\n",
      "[[1069268.33978136    6225.66021864]\n",
      " [ 219900.66021864    1280.33978136]]\n",
      "---\n",
      "\n",
      "chi^2 = 4481.2760\n",
      "p     = 0.0000\n"
     ]
    }
   ],
   "source": [
    "chi2, p, degf, expected = stats.chi2_contingency(observed)\n",
    "\n",
    "print('Observed\\n')\n",
    "print(observed.values)\n",
    "print('---\\nExpected\\n')\n",
    "print(expected)\n",
    "print('---\\n')\n",
    "print(f'chi^2 = {chi2:.4f}')\n",
    "print(f'p     = {p:.4f}')"
   ]
  },
  {
   "cell_type": "markdown",
   "metadata": {},
   "source": [
    "Since the p-value returned is less than our alpha and near 0 we can determine there is a significnat relationship a cc transaction being in the high fraud category and whether the transaction was fraud."
   ]
  },
  {
   "cell_type": "markdown",
   "metadata": {},
   "source": [
    "##### 50 - 100 Dollar Transactions vs Fraud"
   ]
  },
  {
   "cell_type": "markdown",
   "metadata": {},
   "source": [
    "Question: Is there a significant relationship between the two categorical variables: if the transaction was between the 50 to 100 dollar range and the target variable is_fraud\n",
    "\n",
    " - $H_0$: There is no relationship between a cc transaction being in the 50 to 100 dollar range and whether the transaction was fraud\n",
    "\n",
    " - $H_a$: There is a significant relationship between a cc transaction being in the 50 to 100 dollar range and whether the transaction was fraud"
   ]
  },
  {
   "cell_type": "code",
   "execution_count": 56,
   "metadata": {},
   "outputs": [
    {
     "data": {
      "text/html": [
       "<div>\n",
       "<style scoped>\n",
       "    .dataframe tbody tr th:only-of-type {\n",
       "        vertical-align: middle;\n",
       "    }\n",
       "\n",
       "    .dataframe tbody tr th {\n",
       "        vertical-align: top;\n",
       "    }\n",
       "\n",
       "    .dataframe thead th {\n",
       "        text-align: right;\n",
       "    }\n",
       "</style>\n",
       "<table border=\"1\" class=\"dataframe\">\n",
       "  <thead>\n",
       "    <tr style=\"text-align: right;\">\n",
       "      <th>is_fraud</th>\n",
       "      <th>0</th>\n",
       "      <th>1</th>\n",
       "    </tr>\n",
       "    <tr>\n",
       "      <th>50-100_dollars</th>\n",
       "      <th></th>\n",
       "      <th></th>\n",
       "    </tr>\n",
       "  </thead>\n",
       "  <tbody>\n",
       "    <tr>\n",
       "      <th>0</th>\n",
       "      <td>899731</td>\n",
       "      <td>7461</td>\n",
       "    </tr>\n",
       "    <tr>\n",
       "      <th>1</th>\n",
       "      <td>389438</td>\n",
       "      <td>45</td>\n",
       "    </tr>\n",
       "  </tbody>\n",
       "</table>\n",
       "</div>"
      ],
      "text/plain": [
       "is_fraud             0     1\n",
       "50-100_dollars              \n",
       "0               899731  7461\n",
       "1               389438    45"
      ]
     },
     "execution_count": 56,
     "metadata": {},
     "output_type": "execute_result"
    }
   ],
   "source": [
    "## creating our observed crosstab of the two categories\n",
    "\n",
    "observed = pd.crosstab(df['50-100_dollars'], df.is_fraud) \n",
    "observed"
   ]
  },
  {
   "cell_type": "code",
   "execution_count": 57,
   "metadata": {},
   "outputs": [
    {
     "name": "stdout",
     "output_type": "stream",
     "text": [
      "Observed\n",
      "\n",
      "[[899731   7461]\n",
      " [389438     45]]\n",
      "---\n",
      "Expected\n",
      "\n",
      "[[901940.58144716   5251.41855284]\n",
      " [387228.41855284   2254.58144716]]\n",
      "---\n",
      "\n",
      "chi^2 = 3111.7933\n",
      "p     = 0.0000\n"
     ]
    }
   ],
   "source": [
    "chi2, p, degf, expected = stats.chi2_contingency(observed)\n",
    "\n",
    "print('Observed\\n')\n",
    "print(observed.values)\n",
    "print('---\\nExpected\\n')\n",
    "print(expected)\n",
    "print('---\\n')\n",
    "print(f'chi^2 = {chi2:.4f}')\n",
    "print(f'p     = {p:.4f}')"
   ]
  },
  {
   "cell_type": "markdown",
   "metadata": {},
   "source": [
    "Since the p-value returned is less than our alpha and near 0 we can determine there is a significnat relationship a cc transaction being in the 50 to 100 dollar range and whether the transaction was fraud."
   ]
  },
  {
   "cell_type": "markdown",
   "metadata": {},
   "source": [
    "### Modeling"
   ]
  },
  {
   "cell_type": "markdown",
   "metadata": {},
   "source": [
    "##### Splitting X and Y's"
   ]
  },
  {
   "cell_type": "code",
   "execution_count": 58,
   "metadata": {},
   "outputs": [],
   "source": [
    "## making my list of X dataframe features\n",
    "cols = ['high_dollars', 'late_night', 'amt', 'high_fraud_cat']\n",
    "\n",
    "## Splitting into X and Y's\n",
    "X_train, y_train = train[cols], train.is_fraud\n",
    "X_validate, y_validate = validate[cols], validate.is_fraud\n",
    "X_test, y_test = test[cols], test.is_fraud"
   ]
  },
  {
   "cell_type": "code",
   "execution_count": 59,
   "metadata": {},
   "outputs": [
    {
     "data": {
      "text/html": [
       "<div>\n",
       "<style scoped>\n",
       "    .dataframe tbody tr th:only-of-type {\n",
       "        vertical-align: middle;\n",
       "    }\n",
       "\n",
       "    .dataframe tbody tr th {\n",
       "        vertical-align: top;\n",
       "    }\n",
       "\n",
       "    .dataframe thead th {\n",
       "        text-align: right;\n",
       "    }\n",
       "</style>\n",
       "<table border=\"1\" class=\"dataframe\">\n",
       "  <thead>\n",
       "    <tr style=\"text-align: right;\">\n",
       "      <th></th>\n",
       "      <th>high_dollars</th>\n",
       "      <th>late_night</th>\n",
       "      <th>amt</th>\n",
       "      <th>high_fraud_cat</th>\n",
       "    </tr>\n",
       "  </thead>\n",
       "  <tbody>\n",
       "    <tr>\n",
       "      <th>76830</th>\n",
       "      <td>0</td>\n",
       "      <td>0</td>\n",
       "      <td>97.35</td>\n",
       "      <td>1</td>\n",
       "    </tr>\n",
       "    <tr>\n",
       "      <th>140225</th>\n",
       "      <td>0</td>\n",
       "      <td>0</td>\n",
       "      <td>160.97</td>\n",
       "      <td>0</td>\n",
       "    </tr>\n",
       "    <tr>\n",
       "      <th>539623</th>\n",
       "      <td>0</td>\n",
       "      <td>0</td>\n",
       "      <td>73.17</td>\n",
       "      <td>1</td>\n",
       "    </tr>\n",
       "  </tbody>\n",
       "</table>\n",
       "</div>"
      ],
      "text/plain": [
       "        high_dollars  late_night     amt  high_fraud_cat\n",
       "76830              0           0   97.35               1\n",
       "140225             0           0  160.97               0\n",
       "539623             0           0   73.17               1"
      ]
     },
     "execution_count": 59,
     "metadata": {},
     "output_type": "execute_result"
    }
   ],
   "source": [
    "X_train.head(3) ## checking our X dataframe"
   ]
  },
  {
   "cell_type": "code",
   "execution_count": 60,
   "metadata": {},
   "outputs": [
    {
     "data": {
      "text/plain": [
       "76830     0\n",
       "140225    0\n",
       "539623    0\n",
       "881124    0\n",
       "604989    0\n",
       "Name: is_fraud, dtype: int64"
      ]
     },
     "execution_count": 60,
     "metadata": {},
     "output_type": "execute_result"
    }
   ],
   "source": [
    "y_train.head() ## checking our y is only our target variable"
   ]
  },
  {
   "cell_type": "markdown",
   "metadata": {},
   "source": [
    "##### Using Resampling on X_train: SMOTE Method"
   ]
  },
  {
   "cell_type": "code",
   "execution_count": 75,
   "metadata": {},
   "outputs": [],
   "source": [
    "from imblearn.over_sampling import SMOTE\n",
    "\n",
    "## using an oversampling technique to make the train x and y's have equal positive and\n",
    "## negative cases\n",
    "\n",
    "smote = SMOTE(random_state = 123)\n",
    "X_train_smote, y_train_smote = smote.fit_sample(X_train, y_train)"
   ]
  },
  {
   "cell_type": "code",
   "execution_count": 87,
   "metadata": {},
   "outputs": [
    {
     "data": {
      "text/plain": [
       "1    721934\n",
       "0    721934\n",
       "Name: is_fraud, dtype: int64"
      ]
     },
     "execution_count": 87,
     "metadata": {},
     "output_type": "execute_result"
    }
   ],
   "source": [
    "y_train_smote.value_counts() ## <-- quality assurance check"
   ]
  },
  {
   "cell_type": "markdown",
   "metadata": {},
   "source": [
    "##### Determining our Baseline Accuracy"
   ]
  },
  {
   "cell_type": "code",
   "execution_count": 61,
   "metadata": {},
   "outputs": [
    {
     "data": {
      "text/plain": [
       "0    721934\n",
       "1      4204\n",
       "Name: is_fraud, dtype: int64"
      ]
     },
     "execution_count": 61,
     "metadata": {},
     "output_type": "execute_result"
    }
   ],
   "source": [
    "train.is_fraud.value_counts() ## doing value counts to look at what should be our baseline"
   ]
  },
  {
   "cell_type": "code",
   "execution_count": 62,
   "metadata": {},
   "outputs": [
    {
     "data": {
      "text/plain": [
       "76830     0\n",
       "140225    0\n",
       "539623    0\n",
       "881124    0\n",
       "604989    0\n",
       "         ..\n",
       "328365    0\n",
       "4437      0\n",
       "97469     0\n",
       "156421    0\n",
       "31649     0\n",
       "Name: baseline, Length: 726138, dtype: int64"
      ]
     },
     "execution_count": 62,
     "metadata": {},
     "output_type": "execute_result"
    }
   ],
   "source": [
    "train['baseline'] = 0 ## making our baseline column\n",
    "train.baseline"
   ]
  },
  {
   "cell_type": "code",
   "execution_count": 63,
   "metadata": {},
   "outputs": [
    {
     "name": "stdout",
     "output_type": "stream",
     "text": [
      "The baseline accuracy is: 0.9942\n"
     ]
    }
   ],
   "source": [
    "## calculating a baseline accuracy\n",
    "base_acc = (train.baseline == train.is_fraud).mean()\n",
    "print(f'The baseline accuracy is: {base_acc:.4f}')"
   ]
  },
  {
   "cell_type": "markdown",
   "metadata": {},
   "source": [
    "### Train Tests"
   ]
  },
  {
   "cell_type": "markdown",
   "metadata": {},
   "source": [
    "#### Decision Tree Classifier Train test¶"
   ]
  },
  {
   "cell_type": "code",
   "execution_count": 79,
   "metadata": {},
   "outputs": [
    {
     "name": "stdout",
     "output_type": "stream",
     "text": [
      "The baseline accuracy is: 99.4210%\n",
      "\n",
      "    The accuracy for our model is 87.4077%\n",
      "    The True Positive Rate is 95.055%,    The False Positive Rate is 20.240%,\n",
      "    The True Negative Rate is 79.760%,    The False Negative Rate is 4.945%\n",
      "    ________________________________________________________________________________\n",
      "    \n",
      "\n",
      "    The positive is  'fraud'\n",
      "    Confusion Matrix\n",
      "    \n"
     ]
    },
    {
     "data": {
      "text/html": [
       "<div>\n",
       "<style scoped>\n",
       "    .dataframe tbody tr th:only-of-type {\n",
       "        vertical-align: middle;\n",
       "    }\n",
       "\n",
       "    .dataframe tbody tr th {\n",
       "        vertical-align: top;\n",
       "    }\n",
       "\n",
       "    .dataframe thead th {\n",
       "        text-align: right;\n",
       "    }\n",
       "</style>\n",
       "<table border=\"1\" class=\"dataframe\">\n",
       "  <thead>\n",
       "    <tr style=\"text-align: right;\">\n",
       "      <th></th>\n",
       "      <th>pred_not_fraud</th>\n",
       "      <th>pred_fraud</th>\n",
       "    </tr>\n",
       "  </thead>\n",
       "  <tbody>\n",
       "    <tr>\n",
       "      <th>actual_not_fraud</th>\n",
       "      <td>True Negative: 575817</td>\n",
       "      <td>False positive: 146117</td>\n",
       "    </tr>\n",
       "    <tr>\n",
       "      <th>actual_fraud</th>\n",
       "      <td>False Negative: 35699</td>\n",
       "      <td>True Positive: 686235</td>\n",
       "    </tr>\n",
       "  </tbody>\n",
       "</table>\n",
       "</div>"
      ],
      "text/plain": [
       "                         pred_not_fraud              pred_fraud\n",
       "actual_not_fraud  True Negative: 575817  False positive: 146117\n",
       "actual_fraud      False Negative: 35699   True Positive: 686235"
      ]
     },
     "metadata": {},
     "output_type": "display_data"
    },
    {
     "name": "stdout",
     "output_type": "stream",
     "text": [
      "\n",
      "    ________________________________________________________________________________\n",
      "    \n",
      "    Classification Report:\n",
      "    \n"
     ]
    },
    {
     "data": {
      "text/html": [
       "<div>\n",
       "<style scoped>\n",
       "    .dataframe tbody tr th:only-of-type {\n",
       "        vertical-align: middle;\n",
       "    }\n",
       "\n",
       "    .dataframe tbody tr th {\n",
       "        vertical-align: top;\n",
       "    }\n",
       "\n",
       "    .dataframe thead th {\n",
       "        text-align: right;\n",
       "    }\n",
       "</style>\n",
       "<table border=\"1\" class=\"dataframe\">\n",
       "  <thead>\n",
       "    <tr style=\"text-align: right;\">\n",
       "      <th></th>\n",
       "      <th>precision</th>\n",
       "      <th>recall</th>\n",
       "      <th>f1-score</th>\n",
       "      <th>support</th>\n",
       "    </tr>\n",
       "  </thead>\n",
       "  <tbody>\n",
       "    <tr>\n",
       "      <th>not fraud</th>\n",
       "      <td>0.941622</td>\n",
       "      <td>0.797603</td>\n",
       "      <td>0.863650</td>\n",
       "      <td>7.219340e+05</td>\n",
       "    </tr>\n",
       "    <tr>\n",
       "      <th>fraud</th>\n",
       "      <td>0.824453</td>\n",
       "      <td>0.950551</td>\n",
       "      <td>0.883023</td>\n",
       "      <td>7.219340e+05</td>\n",
       "    </tr>\n",
       "    <tr>\n",
       "      <th>accuracy</th>\n",
       "      <td>0.874077</td>\n",
       "      <td>0.874077</td>\n",
       "      <td>0.874077</td>\n",
       "      <td>8.740771e-01</td>\n",
       "    </tr>\n",
       "    <tr>\n",
       "      <th>macro avg</th>\n",
       "      <td>0.883038</td>\n",
       "      <td>0.874077</td>\n",
       "      <td>0.873336</td>\n",
       "      <td>1.443868e+06</td>\n",
       "    </tr>\n",
       "    <tr>\n",
       "      <th>weighted avg</th>\n",
       "      <td>0.883038</td>\n",
       "      <td>0.874077</td>\n",
       "      <td>0.873336</td>\n",
       "      <td>1.443868e+06</td>\n",
       "    </tr>\n",
       "  </tbody>\n",
       "</table>\n",
       "</div>"
      ],
      "text/plain": [
       "              precision    recall  f1-score       support\n",
       "not fraud      0.941622  0.797603  0.863650  7.219340e+05\n",
       "fraud          0.824453  0.950551  0.883023  7.219340e+05\n",
       "accuracy       0.874077  0.874077  0.874077  8.740771e-01\n",
       "macro avg      0.883038  0.874077  0.873336  1.443868e+06\n",
       "weighted avg   0.883038  0.874077  0.873336  1.443868e+06"
      ]
     },
     "metadata": {},
     "output_type": "display_data"
    }
   ],
   "source": [
    "model = DecisionTreeClassifier(random_state = 123, max_depth = 3)   #making a decision tree model\n",
    "model.fit(X_train_smote, y_train_smote)              # fitting the model to train df's\n",
    " \n",
    "print(f'The baseline accuracy is: {base_acc:.4%}') # printing out the basleline accuracy for comparison\n",
    "evaluate(X_train_smote, y_train_smote, model)      # printing out model scores on train df"
   ]
  },
  {
   "cell_type": "markdown",
   "metadata": {},
   "source": [
    "#### Random Forest Model Train Test"
   ]
  },
  {
   "cell_type": "code",
   "execution_count": 80,
   "metadata": {},
   "outputs": [
    {
     "name": "stdout",
     "output_type": "stream",
     "text": [
      "The baseline accuracy is: 99.4210%\n",
      "\n",
      "    The accuracy for our model is 99.5648%\n",
      "    The True Positive Rate is 99.627%,    The False Positive Rate is 0.497%,\n",
      "    The True Negative Rate is 99.503%,    The False Negative Rate is 0.373%\n",
      "    ________________________________________________________________________________\n",
      "    \n",
      "\n",
      "    The positive is  'fraud'\n",
      "    Confusion Matrix\n",
      "    \n"
     ]
    },
    {
     "data": {
      "text/html": [
       "<div>\n",
       "<style scoped>\n",
       "    .dataframe tbody tr th:only-of-type {\n",
       "        vertical-align: middle;\n",
       "    }\n",
       "\n",
       "    .dataframe tbody tr th {\n",
       "        vertical-align: top;\n",
       "    }\n",
       "\n",
       "    .dataframe thead th {\n",
       "        text-align: right;\n",
       "    }\n",
       "</style>\n",
       "<table border=\"1\" class=\"dataframe\">\n",
       "  <thead>\n",
       "    <tr style=\"text-align: right;\">\n",
       "      <th></th>\n",
       "      <th>pred_not_fraud</th>\n",
       "      <th>pred_fraud</th>\n",
       "    </tr>\n",
       "  </thead>\n",
       "  <tbody>\n",
       "    <tr>\n",
       "      <th>actual_not_fraud</th>\n",
       "      <td>True Negative: 718347</td>\n",
       "      <td>False positive: 3587</td>\n",
       "    </tr>\n",
       "    <tr>\n",
       "      <th>actual_fraud</th>\n",
       "      <td>False Negative: 2696</td>\n",
       "      <td>True Positive: 719238</td>\n",
       "    </tr>\n",
       "  </tbody>\n",
       "</table>\n",
       "</div>"
      ],
      "text/plain": [
       "                         pred_not_fraud             pred_fraud\n",
       "actual_not_fraud  True Negative: 718347   False positive: 3587\n",
       "actual_fraud       False Negative: 2696  True Positive: 719238"
      ]
     },
     "metadata": {},
     "output_type": "display_data"
    },
    {
     "name": "stdout",
     "output_type": "stream",
     "text": [
      "\n",
      "    ________________________________________________________________________________\n",
      "    \n",
      "    Classification Report:\n",
      "    \n"
     ]
    },
    {
     "data": {
      "text/html": [
       "<div>\n",
       "<style scoped>\n",
       "    .dataframe tbody tr th:only-of-type {\n",
       "        vertical-align: middle;\n",
       "    }\n",
       "\n",
       "    .dataframe tbody tr th {\n",
       "        vertical-align: top;\n",
       "    }\n",
       "\n",
       "    .dataframe thead th {\n",
       "        text-align: right;\n",
       "    }\n",
       "</style>\n",
       "<table border=\"1\" class=\"dataframe\">\n",
       "  <thead>\n",
       "    <tr style=\"text-align: right;\">\n",
       "      <th></th>\n",
       "      <th>precision</th>\n",
       "      <th>recall</th>\n",
       "      <th>f1-score</th>\n",
       "      <th>support</th>\n",
       "    </tr>\n",
       "  </thead>\n",
       "  <tbody>\n",
       "    <tr>\n",
       "      <th>not fraud</th>\n",
       "      <td>0.996261</td>\n",
       "      <td>0.995031</td>\n",
       "      <td>0.995646</td>\n",
       "      <td>7.219340e+05</td>\n",
       "    </tr>\n",
       "    <tr>\n",
       "      <th>fraud</th>\n",
       "      <td>0.995038</td>\n",
       "      <td>0.996266</td>\n",
       "      <td>0.995651</td>\n",
       "      <td>7.219340e+05</td>\n",
       "    </tr>\n",
       "    <tr>\n",
       "      <th>accuracy</th>\n",
       "      <td>0.995648</td>\n",
       "      <td>0.995648</td>\n",
       "      <td>0.995648</td>\n",
       "      <td>9.956485e-01</td>\n",
       "    </tr>\n",
       "    <tr>\n",
       "      <th>macro avg</th>\n",
       "      <td>0.995649</td>\n",
       "      <td>0.995648</td>\n",
       "      <td>0.995648</td>\n",
       "      <td>1.443868e+06</td>\n",
       "    </tr>\n",
       "    <tr>\n",
       "      <th>weighted avg</th>\n",
       "      <td>0.995649</td>\n",
       "      <td>0.995648</td>\n",
       "      <td>0.995648</td>\n",
       "      <td>1.443868e+06</td>\n",
       "    </tr>\n",
       "  </tbody>\n",
       "</table>\n",
       "</div>"
      ],
      "text/plain": [
       "              precision    recall  f1-score       support\n",
       "not fraud      0.996261  0.995031  0.995646  7.219340e+05\n",
       "fraud          0.995038  0.996266  0.995651  7.219340e+05\n",
       "accuracy       0.995648  0.995648  0.995648  9.956485e-01\n",
       "macro avg      0.995649  0.995648  0.995648  1.443868e+06\n",
       "weighted avg   0.995649  0.995648  0.995648  1.443868e+06"
      ]
     },
     "metadata": {},
     "output_type": "display_data"
    }
   ],
   "source": [
    "forest_model = RandomForestClassifier()   # making a random forest model\n",
    "forest_model.fit(X_train_smote, y_train_smote)       # fitting the model to train\n",
    "\n",
    "print(f'The baseline accuracy is: {base_acc:.4%}')   # printing out the baseline for comparison\n",
    "evaluate(X_train_smote, y_train_smote, forest_model)   #printing out model scores for train"
   ]
  },
  {
   "cell_type": "markdown",
   "metadata": {},
   "source": [
    "#### KNN Model Train Test¶\n"
   ]
  },
  {
   "cell_type": "code",
   "execution_count": 81,
   "metadata": {},
   "outputs": [
    {
     "name": "stdout",
     "output_type": "stream",
     "text": [
      "The baseline accuracy is: 99.4210%\n",
      "\n",
      "    The accuracy for our model is 97.6964%\n",
      "    The True Positive Rate is 97.142%,    The False Positive Rate is 1.749%,\n",
      "    The True Negative Rate is 98.251%,    The False Negative Rate is 2.858%\n",
      "    ________________________________________________________________________________\n",
      "    \n",
      "\n",
      "    The positive is  'fraud'\n",
      "    Confusion Matrix\n",
      "    \n"
     ]
    },
    {
     "data": {
      "text/html": [
       "<div>\n",
       "<style scoped>\n",
       "    .dataframe tbody tr th:only-of-type {\n",
       "        vertical-align: middle;\n",
       "    }\n",
       "\n",
       "    .dataframe tbody tr th {\n",
       "        vertical-align: top;\n",
       "    }\n",
       "\n",
       "    .dataframe thead th {\n",
       "        text-align: right;\n",
       "    }\n",
       "</style>\n",
       "<table border=\"1\" class=\"dataframe\">\n",
       "  <thead>\n",
       "    <tr style=\"text-align: right;\">\n",
       "      <th></th>\n",
       "      <th>pred_not_fraud</th>\n",
       "      <th>pred_fraud</th>\n",
       "    </tr>\n",
       "  </thead>\n",
       "  <tbody>\n",
       "    <tr>\n",
       "      <th>actual_not_fraud</th>\n",
       "      <td>True Negative: 709306</td>\n",
       "      <td>False positive: 12628</td>\n",
       "    </tr>\n",
       "    <tr>\n",
       "      <th>actual_fraud</th>\n",
       "      <td>False Negative: 20633</td>\n",
       "      <td>True Positive: 701301</td>\n",
       "    </tr>\n",
       "  </tbody>\n",
       "</table>\n",
       "</div>"
      ],
      "text/plain": [
       "                         pred_not_fraud             pred_fraud\n",
       "actual_not_fraud  True Negative: 709306  False positive: 12628\n",
       "actual_fraud      False Negative: 20633  True Positive: 701301"
      ]
     },
     "metadata": {},
     "output_type": "display_data"
    },
    {
     "name": "stdout",
     "output_type": "stream",
     "text": [
      "\n",
      "    ________________________________________________________________________________\n",
      "    \n",
      "    Classification Report:\n",
      "    \n"
     ]
    },
    {
     "data": {
      "text/html": [
       "<div>\n",
       "<style scoped>\n",
       "    .dataframe tbody tr th:only-of-type {\n",
       "        vertical-align: middle;\n",
       "    }\n",
       "\n",
       "    .dataframe tbody tr th {\n",
       "        vertical-align: top;\n",
       "    }\n",
       "\n",
       "    .dataframe thead th {\n",
       "        text-align: right;\n",
       "    }\n",
       "</style>\n",
       "<table border=\"1\" class=\"dataframe\">\n",
       "  <thead>\n",
       "    <tr style=\"text-align: right;\">\n",
       "      <th></th>\n",
       "      <th>precision</th>\n",
       "      <th>recall</th>\n",
       "      <th>f1-score</th>\n",
       "      <th>support</th>\n",
       "    </tr>\n",
       "  </thead>\n",
       "  <tbody>\n",
       "    <tr>\n",
       "      <th>not fraud</th>\n",
       "      <td>0.971733</td>\n",
       "      <td>0.982508</td>\n",
       "      <td>0.977091</td>\n",
       "      <td>7.219340e+05</td>\n",
       "    </tr>\n",
       "    <tr>\n",
       "      <th>fraud</th>\n",
       "      <td>0.982312</td>\n",
       "      <td>0.971420</td>\n",
       "      <td>0.976836</td>\n",
       "      <td>7.219340e+05</td>\n",
       "    </tr>\n",
       "    <tr>\n",
       "      <th>accuracy</th>\n",
       "      <td>0.976964</td>\n",
       "      <td>0.976964</td>\n",
       "      <td>0.976964</td>\n",
       "      <td>9.769640e-01</td>\n",
       "    </tr>\n",
       "    <tr>\n",
       "      <th>macro avg</th>\n",
       "      <td>0.977023</td>\n",
       "      <td>0.976964</td>\n",
       "      <td>0.976963</td>\n",
       "      <td>1.443868e+06</td>\n",
       "    </tr>\n",
       "    <tr>\n",
       "      <th>weighted avg</th>\n",
       "      <td>0.977023</td>\n",
       "      <td>0.976964</td>\n",
       "      <td>0.976963</td>\n",
       "      <td>1.443868e+06</td>\n",
       "    </tr>\n",
       "  </tbody>\n",
       "</table>\n",
       "</div>"
      ],
      "text/plain": [
       "              precision    recall  f1-score       support\n",
       "not fraud      0.971733  0.982508  0.977091  7.219340e+05\n",
       "fraud          0.982312  0.971420  0.976836  7.219340e+05\n",
       "accuracy       0.976964  0.976964  0.976964  9.769640e-01\n",
       "macro avg      0.977023  0.976964  0.976963  1.443868e+06\n",
       "weighted avg   0.977023  0.976964  0.976963  1.443868e+06"
      ]
     },
     "metadata": {},
     "output_type": "display_data"
    }
   ],
   "source": [
    "knn_model = KNeighborsClassifier(n_neighbors = 5) #making a k nearest neighbor model \n",
    "knn_model.fit(X_train_smote, y_train_smote) #fitting the model to train\n",
    "\n",
    "print(f'The baseline accuracy is: {base_acc:.4%}') #printing out the baseline accuracy for comparison\n",
    "evaluate(X_train_smote, y_train_smote, knn_model) #using evaluate function from evaluation file to print out scores"
   ]
  },
  {
   "cell_type": "markdown",
   "metadata": {},
   "source": [
    "#### Logistic Regression Model Train Test"
   ]
  },
  {
   "cell_type": "code",
   "execution_count": 82,
   "metadata": {},
   "outputs": [
    {
     "name": "stdout",
     "output_type": "stream",
     "text": [
      "The baseline accuracy is: 99.4210%\n",
      "\n",
      "    The accuracy for our model is 86.1075%\n",
      "    The True Positive Rate is 85.630%,    The False Positive Rate is 13.415%,\n",
      "    The True Negative Rate is 86.585%,    The False Negative Rate is 14.370%\n",
      "    ________________________________________________________________________________\n",
      "    \n",
      "\n",
      "    The positive is  'fraud'\n",
      "    Confusion Matrix\n",
      "    \n"
     ]
    },
    {
     "data": {
      "text/html": [
       "<div>\n",
       "<style scoped>\n",
       "    .dataframe tbody tr th:only-of-type {\n",
       "        vertical-align: middle;\n",
       "    }\n",
       "\n",
       "    .dataframe tbody tr th {\n",
       "        vertical-align: top;\n",
       "    }\n",
       "\n",
       "    .dataframe thead th {\n",
       "        text-align: right;\n",
       "    }\n",
       "</style>\n",
       "<table border=\"1\" class=\"dataframe\">\n",
       "  <thead>\n",
       "    <tr style=\"text-align: right;\">\n",
       "      <th></th>\n",
       "      <th>pred_not_fraud</th>\n",
       "      <th>pred_fraud</th>\n",
       "    </tr>\n",
       "  </thead>\n",
       "  <tbody>\n",
       "    <tr>\n",
       "      <th>actual_not_fraud</th>\n",
       "      <td>True Negative: 625086</td>\n",
       "      <td>False positive: 96848</td>\n",
       "    </tr>\n",
       "    <tr>\n",
       "      <th>actual_fraud</th>\n",
       "      <td>False Negative: 103741</td>\n",
       "      <td>True Positive: 618193</td>\n",
       "    </tr>\n",
       "  </tbody>\n",
       "</table>\n",
       "</div>"
      ],
      "text/plain": [
       "                          pred_not_fraud             pred_fraud\n",
       "actual_not_fraud   True Negative: 625086  False positive: 96848\n",
       "actual_fraud      False Negative: 103741  True Positive: 618193"
      ]
     },
     "metadata": {},
     "output_type": "display_data"
    },
    {
     "name": "stdout",
     "output_type": "stream",
     "text": [
      "\n",
      "    ________________________________________________________________________________\n",
      "    \n",
      "    Classification Report:\n",
      "    \n"
     ]
    },
    {
     "data": {
      "text/html": [
       "<div>\n",
       "<style scoped>\n",
       "    .dataframe tbody tr th:only-of-type {\n",
       "        vertical-align: middle;\n",
       "    }\n",
       "\n",
       "    .dataframe tbody tr th {\n",
       "        vertical-align: top;\n",
       "    }\n",
       "\n",
       "    .dataframe thead th {\n",
       "        text-align: right;\n",
       "    }\n",
       "</style>\n",
       "<table border=\"1\" class=\"dataframe\">\n",
       "  <thead>\n",
       "    <tr style=\"text-align: right;\">\n",
       "      <th></th>\n",
       "      <th>precision</th>\n",
       "      <th>recall</th>\n",
       "      <th>f1-score</th>\n",
       "      <th>support</th>\n",
       "    </tr>\n",
       "  </thead>\n",
       "  <tbody>\n",
       "    <tr>\n",
       "      <th>not fraud</th>\n",
       "      <td>0.857660</td>\n",
       "      <td>0.865849</td>\n",
       "      <td>0.861735</td>\n",
       "      <td>7.219340e+05</td>\n",
       "    </tr>\n",
       "    <tr>\n",
       "      <th>fraud</th>\n",
       "      <td>0.864556</td>\n",
       "      <td>0.856301</td>\n",
       "      <td>0.860409</td>\n",
       "      <td>7.219340e+05</td>\n",
       "    </tr>\n",
       "    <tr>\n",
       "      <th>accuracy</th>\n",
       "      <td>0.861075</td>\n",
       "      <td>0.861075</td>\n",
       "      <td>0.861075</td>\n",
       "      <td>8.610753e-01</td>\n",
       "    </tr>\n",
       "    <tr>\n",
       "      <th>macro avg</th>\n",
       "      <td>0.861108</td>\n",
       "      <td>0.861075</td>\n",
       "      <td>0.861072</td>\n",
       "      <td>1.443868e+06</td>\n",
       "    </tr>\n",
       "    <tr>\n",
       "      <th>weighted avg</th>\n",
       "      <td>0.861108</td>\n",
       "      <td>0.861075</td>\n",
       "      <td>0.861072</td>\n",
       "      <td>1.443868e+06</td>\n",
       "    </tr>\n",
       "  </tbody>\n",
       "</table>\n",
       "</div>"
      ],
      "text/plain": [
       "              precision    recall  f1-score       support\n",
       "not fraud      0.857660  0.865849  0.861735  7.219340e+05\n",
       "fraud          0.864556  0.856301  0.860409  7.219340e+05\n",
       "accuracy       0.861075  0.861075  0.861075  8.610753e-01\n",
       "macro avg      0.861108  0.861075  0.861072  1.443868e+06\n",
       "weighted avg   0.861108  0.861075  0.861072  1.443868e+06"
      ]
     },
     "metadata": {},
     "output_type": "display_data"
    }
   ],
   "source": [
    "logic_model = LogisticRegression(random_state = 123)  ##making a logistic regression model\n",
    "logic_model.fit(X_train_smote, y_train_smote) ##fitting model to train\n",
    "\n",
    "print(f'The baseline accuracy is: {base_acc:.4%}')\n",
    "evaluate(X_train_smote, y_train_smote, logic_model)"
   ]
  },
  {
   "cell_type": "markdown",
   "metadata": {},
   "source": [
    "#### Random Forest Model II Train Test"
   ]
  },
  {
   "cell_type": "code",
   "execution_count": 83,
   "metadata": {},
   "outputs": [
    {
     "name": "stdout",
     "output_type": "stream",
     "text": [
      "The baseline accuracy is: 99.4210%\n",
      "\n",
      "    The accuracy for our model is 91.2719%\n",
      "    The True Positive Rate is 91.299%,    The False Positive Rate is 8.755%,\n",
      "    The True Negative Rate is 91.245%,    The False Negative Rate is 8.701%\n",
      "    ________________________________________________________________________________\n",
      "    \n",
      "\n",
      "    The positive is  'fraud'\n",
      "    Confusion Matrix\n",
      "    \n"
     ]
    },
    {
     "data": {
      "text/html": [
       "<div>\n",
       "<style scoped>\n",
       "    .dataframe tbody tr th:only-of-type {\n",
       "        vertical-align: middle;\n",
       "    }\n",
       "\n",
       "    .dataframe tbody tr th {\n",
       "        vertical-align: top;\n",
       "    }\n",
       "\n",
       "    .dataframe thead th {\n",
       "        text-align: right;\n",
       "    }\n",
       "</style>\n",
       "<table border=\"1\" class=\"dataframe\">\n",
       "  <thead>\n",
       "    <tr style=\"text-align: right;\">\n",
       "      <th></th>\n",
       "      <th>pred_not_fraud</th>\n",
       "      <th>pred_fraud</th>\n",
       "    </tr>\n",
       "  </thead>\n",
       "  <tbody>\n",
       "    <tr>\n",
       "      <th>actual_not_fraud</th>\n",
       "      <td>True Negative: 658726</td>\n",
       "      <td>False positive: 63208</td>\n",
       "    </tr>\n",
       "    <tr>\n",
       "      <th>actual_fraud</th>\n",
       "      <td>False Negative: 62814</td>\n",
       "      <td>True Positive: 659120</td>\n",
       "    </tr>\n",
       "  </tbody>\n",
       "</table>\n",
       "</div>"
      ],
      "text/plain": [
       "                         pred_not_fraud             pred_fraud\n",
       "actual_not_fraud  True Negative: 658726  False positive: 63208\n",
       "actual_fraud      False Negative: 62814  True Positive: 659120"
      ]
     },
     "metadata": {},
     "output_type": "display_data"
    },
    {
     "name": "stdout",
     "output_type": "stream",
     "text": [
      "\n",
      "    ________________________________________________________________________________\n",
      "    \n",
      "    Classification Report:\n",
      "    \n"
     ]
    },
    {
     "data": {
      "text/html": [
       "<div>\n",
       "<style scoped>\n",
       "    .dataframe tbody tr th:only-of-type {\n",
       "        vertical-align: middle;\n",
       "    }\n",
       "\n",
       "    .dataframe tbody tr th {\n",
       "        vertical-align: top;\n",
       "    }\n",
       "\n",
       "    .dataframe thead th {\n",
       "        text-align: right;\n",
       "    }\n",
       "</style>\n",
       "<table border=\"1\" class=\"dataframe\">\n",
       "  <thead>\n",
       "    <tr style=\"text-align: right;\">\n",
       "      <th></th>\n",
       "      <th>precision</th>\n",
       "      <th>recall</th>\n",
       "      <th>f1-score</th>\n",
       "      <th>support</th>\n",
       "    </tr>\n",
       "  </thead>\n",
       "  <tbody>\n",
       "    <tr>\n",
       "      <th>not fraud</th>\n",
       "      <td>0.912945</td>\n",
       "      <td>0.912446</td>\n",
       "      <td>0.912695</td>\n",
       "      <td>7.219340e+05</td>\n",
       "    </tr>\n",
       "    <tr>\n",
       "      <th>fraud</th>\n",
       "      <td>0.912494</td>\n",
       "      <td>0.912992</td>\n",
       "      <td>0.912743</td>\n",
       "      <td>7.219340e+05</td>\n",
       "    </tr>\n",
       "    <tr>\n",
       "      <th>accuracy</th>\n",
       "      <td>0.912719</td>\n",
       "      <td>0.912719</td>\n",
       "      <td>0.912719</td>\n",
       "      <td>9.127192e-01</td>\n",
       "    </tr>\n",
       "    <tr>\n",
       "      <th>macro avg</th>\n",
       "      <td>0.912719</td>\n",
       "      <td>0.912719</td>\n",
       "      <td>0.912719</td>\n",
       "      <td>1.443868e+06</td>\n",
       "    </tr>\n",
       "    <tr>\n",
       "      <th>weighted avg</th>\n",
       "      <td>0.912719</td>\n",
       "      <td>0.912719</td>\n",
       "      <td>0.912719</td>\n",
       "      <td>1.443868e+06</td>\n",
       "    </tr>\n",
       "  </tbody>\n",
       "</table>\n",
       "</div>"
      ],
      "text/plain": [
       "              precision    recall  f1-score       support\n",
       "not fraud      0.912945  0.912446  0.912695  7.219340e+05\n",
       "fraud          0.912494  0.912992  0.912743  7.219340e+05\n",
       "accuracy       0.912719  0.912719  0.912719  9.127192e-01\n",
       "macro avg      0.912719  0.912719  0.912719  1.443868e+06\n",
       "weighted avg   0.912719  0.912719  0.912719  1.443868e+06"
      ]
     },
     "metadata": {},
     "output_type": "display_data"
    }
   ],
   "source": [
    "forest_model2 = RandomForestClassifier(max_leaf_nodes = 50)\n",
    "forest_model2.fit(X_train_smote, y_train_smote)\n",
    "\n",
    "print(f'The baseline accuracy is: {base_acc:.4%}')  ##printing baseline accuracy to compare\n",
    "evaluate(X_train_smote, y_train_smote, forest_model2)"
   ]
  },
  {
   "cell_type": "markdown",
   "metadata": {},
   "source": [
    "### Validate Tests"
   ]
  },
  {
   "cell_type": "markdown",
   "metadata": {},
   "source": [
    "#### Random Forest Model I Validate Test"
   ]
  },
  {
   "cell_type": "code",
   "execution_count": 84,
   "metadata": {},
   "outputs": [
    {
     "name": "stdout",
     "output_type": "stream",
     "text": [
      "The baseline accuracy is: 99.4210%\n",
      "\n",
      "    The accuracy for our model is 98.1080%\n",
      "    The True Positive Rate is 66.241%,    The False Positive Rate is 1.707%,\n",
      "    The True Negative Rate is 98.293%,    The False Negative Rate is 33.759%\n",
      "    ________________________________________________________________________________\n",
      "    \n",
      "\n",
      "    The positive is  'fraud'\n",
      "    Confusion Matrix\n",
      "    \n"
     ]
    },
    {
     "data": {
      "text/html": [
       "<div>\n",
       "<style scoped>\n",
       "    .dataframe tbody tr th:only-of-type {\n",
       "        vertical-align: middle;\n",
       "    }\n",
       "\n",
       "    .dataframe tbody tr th {\n",
       "        vertical-align: top;\n",
       "    }\n",
       "\n",
       "    .dataframe thead th {\n",
       "        text-align: right;\n",
       "    }\n",
       "</style>\n",
       "<table border=\"1\" class=\"dataframe\">\n",
       "  <thead>\n",
       "    <tr style=\"text-align: right;\">\n",
       "      <th></th>\n",
       "      <th>pred_not_fraud</th>\n",
       "      <th>pred_fraud</th>\n",
       "    </tr>\n",
       "  </thead>\n",
       "  <tbody>\n",
       "    <tr>\n",
       "      <th>actual_not_fraud</th>\n",
       "      <td>True Negative: 304121</td>\n",
       "      <td>False positive: 5280</td>\n",
       "    </tr>\n",
       "    <tr>\n",
       "      <th>actual_fraud</th>\n",
       "      <td>False Negative: 608</td>\n",
       "      <td>True Positive: 1193</td>\n",
       "    </tr>\n",
       "  </tbody>\n",
       "</table>\n",
       "</div>"
      ],
      "text/plain": [
       "                         pred_not_fraud            pred_fraud\n",
       "actual_not_fraud  True Negative: 304121  False positive: 5280\n",
       "actual_fraud        False Negative: 608   True Positive: 1193"
      ]
     },
     "metadata": {},
     "output_type": "display_data"
    },
    {
     "name": "stdout",
     "output_type": "stream",
     "text": [
      "\n",
      "    ________________________________________________________________________________\n",
      "    \n",
      "    Classification Report:\n",
      "    \n"
     ]
    },
    {
     "data": {
      "text/html": [
       "<div>\n",
       "<style scoped>\n",
       "    .dataframe tbody tr th:only-of-type {\n",
       "        vertical-align: middle;\n",
       "    }\n",
       "\n",
       "    .dataframe tbody tr th {\n",
       "        vertical-align: top;\n",
       "    }\n",
       "\n",
       "    .dataframe thead th {\n",
       "        text-align: right;\n",
       "    }\n",
       "</style>\n",
       "<table border=\"1\" class=\"dataframe\">\n",
       "  <thead>\n",
       "    <tr style=\"text-align: right;\">\n",
       "      <th></th>\n",
       "      <th>precision</th>\n",
       "      <th>recall</th>\n",
       "      <th>f1-score</th>\n",
       "      <th>support</th>\n",
       "    </tr>\n",
       "  </thead>\n",
       "  <tbody>\n",
       "    <tr>\n",
       "      <th>not fraud</th>\n",
       "      <td>0.998005</td>\n",
       "      <td>0.982935</td>\n",
       "      <td>0.990412</td>\n",
       "      <td>309401.00000</td>\n",
       "    </tr>\n",
       "    <tr>\n",
       "      <th>fraud</th>\n",
       "      <td>0.184304</td>\n",
       "      <td>0.662410</td>\n",
       "      <td>0.288373</td>\n",
       "      <td>1801.00000</td>\n",
       "    </tr>\n",
       "    <tr>\n",
       "      <th>accuracy</th>\n",
       "      <td>0.981080</td>\n",
       "      <td>0.981080</td>\n",
       "      <td>0.981080</td>\n",
       "      <td>0.98108</td>\n",
       "    </tr>\n",
       "    <tr>\n",
       "      <th>macro avg</th>\n",
       "      <td>0.591154</td>\n",
       "      <td>0.822672</td>\n",
       "      <td>0.639393</td>\n",
       "      <td>311202.00000</td>\n",
       "    </tr>\n",
       "    <tr>\n",
       "      <th>weighted avg</th>\n",
       "      <td>0.993296</td>\n",
       "      <td>0.981080</td>\n",
       "      <td>0.986350</td>\n",
       "      <td>311202.00000</td>\n",
       "    </tr>\n",
       "  </tbody>\n",
       "</table>\n",
       "</div>"
      ],
      "text/plain": [
       "              precision    recall  f1-score       support\n",
       "not fraud      0.998005  0.982935  0.990412  309401.00000\n",
       "fraud          0.184304  0.662410  0.288373    1801.00000\n",
       "accuracy       0.981080  0.981080  0.981080       0.98108\n",
       "macro avg      0.591154  0.822672  0.639393  311202.00000\n",
       "weighted avg   0.993296  0.981080  0.986350  311202.00000"
      ]
     },
     "metadata": {},
     "output_type": "display_data"
    }
   ],
   "source": [
    "print(f'The baseline accuracy is: {base_acc:.4%}')  ##printing baseline accuracy to compare\n",
    "evaluate(X_validate, y_validate, forest_model)"
   ]
  },
  {
   "cell_type": "markdown",
   "metadata": {},
   "source": [
    "#### KNN Model Validate Test"
   ]
  },
  {
   "cell_type": "code",
   "execution_count": 85,
   "metadata": {},
   "outputs": [
    {
     "name": "stdout",
     "output_type": "stream",
     "text": [
      "The baseline accuracy is: 99.4210%\n",
      "\n",
      "    The accuracy for our model is 97.7571%\n",
      "    The True Positive Rate is 73.182%,    The False Positive Rate is 2.100%,\n",
      "    The True Negative Rate is 97.900%,    The False Negative Rate is 26.818%\n",
      "    ________________________________________________________________________________\n",
      "    \n",
      "\n",
      "    The positive is  'fraud'\n",
      "    Confusion Matrix\n",
      "    \n"
     ]
    },
    {
     "data": {
      "text/html": [
       "<div>\n",
       "<style scoped>\n",
       "    .dataframe tbody tr th:only-of-type {\n",
       "        vertical-align: middle;\n",
       "    }\n",
       "\n",
       "    .dataframe tbody tr th {\n",
       "        vertical-align: top;\n",
       "    }\n",
       "\n",
       "    .dataframe thead th {\n",
       "        text-align: right;\n",
       "    }\n",
       "</style>\n",
       "<table border=\"1\" class=\"dataframe\">\n",
       "  <thead>\n",
       "    <tr style=\"text-align: right;\">\n",
       "      <th></th>\n",
       "      <th>pred_not_fraud</th>\n",
       "      <th>pred_fraud</th>\n",
       "    </tr>\n",
       "  </thead>\n",
       "  <tbody>\n",
       "    <tr>\n",
       "      <th>actual_not_fraud</th>\n",
       "      <td>True Negative: 302904</td>\n",
       "      <td>False positive: 6497</td>\n",
       "    </tr>\n",
       "    <tr>\n",
       "      <th>actual_fraud</th>\n",
       "      <td>False Negative: 483</td>\n",
       "      <td>True Positive: 1318</td>\n",
       "    </tr>\n",
       "  </tbody>\n",
       "</table>\n",
       "</div>"
      ],
      "text/plain": [
       "                         pred_not_fraud            pred_fraud\n",
       "actual_not_fraud  True Negative: 302904  False positive: 6497\n",
       "actual_fraud        False Negative: 483   True Positive: 1318"
      ]
     },
     "metadata": {},
     "output_type": "display_data"
    },
    {
     "name": "stdout",
     "output_type": "stream",
     "text": [
      "\n",
      "    ________________________________________________________________________________\n",
      "    \n",
      "    Classification Report:\n",
      "    \n"
     ]
    },
    {
     "data": {
      "text/html": [
       "<div>\n",
       "<style scoped>\n",
       "    .dataframe tbody tr th:only-of-type {\n",
       "        vertical-align: middle;\n",
       "    }\n",
       "\n",
       "    .dataframe tbody tr th {\n",
       "        vertical-align: top;\n",
       "    }\n",
       "\n",
       "    .dataframe thead th {\n",
       "        text-align: right;\n",
       "    }\n",
       "</style>\n",
       "<table border=\"1\" class=\"dataframe\">\n",
       "  <thead>\n",
       "    <tr style=\"text-align: right;\">\n",
       "      <th></th>\n",
       "      <th>precision</th>\n",
       "      <th>recall</th>\n",
       "      <th>f1-score</th>\n",
       "      <th>support</th>\n",
       "    </tr>\n",
       "  </thead>\n",
       "  <tbody>\n",
       "    <tr>\n",
       "      <th>not fraud</th>\n",
       "      <td>0.998408</td>\n",
       "      <td>0.979001</td>\n",
       "      <td>0.988609</td>\n",
       "      <td>309401.000000</td>\n",
       "    </tr>\n",
       "    <tr>\n",
       "      <th>fraud</th>\n",
       "      <td>0.168650</td>\n",
       "      <td>0.731816</td>\n",
       "      <td>0.274126</td>\n",
       "      <td>1801.000000</td>\n",
       "    </tr>\n",
       "    <tr>\n",
       "      <th>accuracy</th>\n",
       "      <td>0.977571</td>\n",
       "      <td>0.977571</td>\n",
       "      <td>0.977571</td>\n",
       "      <td>0.977571</td>\n",
       "    </tr>\n",
       "    <tr>\n",
       "      <th>macro avg</th>\n",
       "      <td>0.583529</td>\n",
       "      <td>0.855409</td>\n",
       "      <td>0.631368</td>\n",
       "      <td>311202.000000</td>\n",
       "    </tr>\n",
       "    <tr>\n",
       "      <th>weighted avg</th>\n",
       "      <td>0.993606</td>\n",
       "      <td>0.977571</td>\n",
       "      <td>0.984475</td>\n",
       "      <td>311202.000000</td>\n",
       "    </tr>\n",
       "  </tbody>\n",
       "</table>\n",
       "</div>"
      ],
      "text/plain": [
       "              precision    recall  f1-score        support\n",
       "not fraud      0.998408  0.979001  0.988609  309401.000000\n",
       "fraud          0.168650  0.731816  0.274126    1801.000000\n",
       "accuracy       0.977571  0.977571  0.977571       0.977571\n",
       "macro avg      0.583529  0.855409  0.631368  311202.000000\n",
       "weighted avg   0.993606  0.977571  0.984475  311202.000000"
      ]
     },
     "metadata": {},
     "output_type": "display_data"
    }
   ],
   "source": [
    "print(f'The baseline accuracy is: {base_acc:.4%}')  ##printing baseline accuracy to compare\n",
    "evaluate(X_validate, y_validate, knn_model)"
   ]
  },
  {
   "cell_type": "markdown",
   "metadata": {},
   "source": [
    "#### Random Forest Model II Validate Test"
   ]
  },
  {
   "cell_type": "code",
   "execution_count": 86,
   "metadata": {},
   "outputs": [
    {
     "name": "stdout",
     "output_type": "stream",
     "text": [
      "The baseline accuracy is: 99.4210%\n",
      "\n",
      "    The accuracy for our model is 91.2488%\n",
      "    The True Positive Rate is 89.728%,    The False Positive Rate is 8.742%,\n",
      "    The True Negative Rate is 91.258%,    The False Negative Rate is 10.272%\n",
      "    ________________________________________________________________________________\n",
      "    \n",
      "\n",
      "    The positive is  'fraud'\n",
      "    Confusion Matrix\n",
      "    \n"
     ]
    },
    {
     "data": {
      "text/html": [
       "<div>\n",
       "<style scoped>\n",
       "    .dataframe tbody tr th:only-of-type {\n",
       "        vertical-align: middle;\n",
       "    }\n",
       "\n",
       "    .dataframe tbody tr th {\n",
       "        vertical-align: top;\n",
       "    }\n",
       "\n",
       "    .dataframe thead th {\n",
       "        text-align: right;\n",
       "    }\n",
       "</style>\n",
       "<table border=\"1\" class=\"dataframe\">\n",
       "  <thead>\n",
       "    <tr style=\"text-align: right;\">\n",
       "      <th></th>\n",
       "      <th>pred_not_fraud</th>\n",
       "      <th>pred_fraud</th>\n",
       "    </tr>\n",
       "  </thead>\n",
       "  <tbody>\n",
       "    <tr>\n",
       "      <th>actual_not_fraud</th>\n",
       "      <td>True Negative: 282352</td>\n",
       "      <td>False positive: 27049</td>\n",
       "    </tr>\n",
       "    <tr>\n",
       "      <th>actual_fraud</th>\n",
       "      <td>False Negative: 185</td>\n",
       "      <td>True Positive: 1616</td>\n",
       "    </tr>\n",
       "  </tbody>\n",
       "</table>\n",
       "</div>"
      ],
      "text/plain": [
       "                         pred_not_fraud             pred_fraud\n",
       "actual_not_fraud  True Negative: 282352  False positive: 27049\n",
       "actual_fraud        False Negative: 185    True Positive: 1616"
      ]
     },
     "metadata": {},
     "output_type": "display_data"
    },
    {
     "name": "stdout",
     "output_type": "stream",
     "text": [
      "\n",
      "    ________________________________________________________________________________\n",
      "    \n",
      "    Classification Report:\n",
      "    \n"
     ]
    },
    {
     "data": {
      "text/html": [
       "<div>\n",
       "<style scoped>\n",
       "    .dataframe tbody tr th:only-of-type {\n",
       "        vertical-align: middle;\n",
       "    }\n",
       "\n",
       "    .dataframe tbody tr th {\n",
       "        vertical-align: top;\n",
       "    }\n",
       "\n",
       "    .dataframe thead th {\n",
       "        text-align: right;\n",
       "    }\n",
       "</style>\n",
       "<table border=\"1\" class=\"dataframe\">\n",
       "  <thead>\n",
       "    <tr style=\"text-align: right;\">\n",
       "      <th></th>\n",
       "      <th>precision</th>\n",
       "      <th>recall</th>\n",
       "      <th>f1-score</th>\n",
       "      <th>support</th>\n",
       "    </tr>\n",
       "  </thead>\n",
       "  <tbody>\n",
       "    <tr>\n",
       "      <th>not fraud</th>\n",
       "      <td>0.999345</td>\n",
       "      <td>0.912576</td>\n",
       "      <td>0.953992</td>\n",
       "      <td>309401.000000</td>\n",
       "    </tr>\n",
       "    <tr>\n",
       "      <th>fraud</th>\n",
       "      <td>0.056375</td>\n",
       "      <td>0.897279</td>\n",
       "      <td>0.106085</td>\n",
       "      <td>1801.000000</td>\n",
       "    </tr>\n",
       "    <tr>\n",
       "      <th>accuracy</th>\n",
       "      <td>0.912488</td>\n",
       "      <td>0.912488</td>\n",
       "      <td>0.912488</td>\n",
       "      <td>0.912488</td>\n",
       "    </tr>\n",
       "    <tr>\n",
       "      <th>macro avg</th>\n",
       "      <td>0.527860</td>\n",
       "      <td>0.904928</td>\n",
       "      <td>0.530039</td>\n",
       "      <td>311202.000000</td>\n",
       "    </tr>\n",
       "    <tr>\n",
       "      <th>weighted avg</th>\n",
       "      <td>0.993888</td>\n",
       "      <td>0.912488</td>\n",
       "      <td>0.949085</td>\n",
       "      <td>311202.000000</td>\n",
       "    </tr>\n",
       "  </tbody>\n",
       "</table>\n",
       "</div>"
      ],
      "text/plain": [
       "              precision    recall  f1-score        support\n",
       "not fraud      0.999345  0.912576  0.953992  309401.000000\n",
       "fraud          0.056375  0.897279  0.106085    1801.000000\n",
       "accuracy       0.912488  0.912488  0.912488       0.912488\n",
       "macro avg      0.527860  0.904928  0.530039  311202.000000\n",
       "weighted avg   0.993888  0.912488  0.949085  311202.000000"
      ]
     },
     "metadata": {},
     "output_type": "display_data"
    }
   ],
   "source": [
    "print(f'The baseline accuracy is: {base_acc:.4%}')  ##printing baseline accuracy to compare\n",
    "evaluate(X_validate, y_validate, forest_model2)"
   ]
  }
 ],
 "metadata": {
  "kernelspec": {
   "display_name": "Python 3",
   "language": "python",
   "name": "python3"
  },
  "language_info": {
   "codemirror_mode": {
    "name": "ipython",
    "version": 3
   },
   "file_extension": ".py",
   "mimetype": "text/x-python",
   "name": "python",
   "nbconvert_exporter": "python",
   "pygments_lexer": "ipython3",
   "version": "3.8.5"
  }
 },
 "nbformat": 4,
 "nbformat_minor": 4
}
